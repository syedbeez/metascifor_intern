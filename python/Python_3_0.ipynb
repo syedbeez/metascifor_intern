{
  "cells": [
    {
      "cell_type": "code",
      "execution_count": null,
      "id": "107db777",
      "metadata": {
        "id": "107db777"
      },
      "outputs": [],
      "source": [
        "#Last lecture we learned about Data Structure.Now Continue With Tuples , Set and Dictionary\n",
        "#Lets start with tuple\n"
      ]
    },
    {
      "cell_type": "code",
      "execution_count": null,
      "id": "689a7f02",
      "metadata": {
        "id": "689a7f02"
      },
      "outputs": [],
      "source": [
        "#what is tuples ? Tuple is a data structure of python. tuple are always in () round brackets\n",
        "#tuples are immutable.and its work with all data types.\n",
        "#lets see with example.\n"
      ]
    },
    {
      "cell_type": "code",
      "execution_count": null,
      "id": "84cb17d1",
      "metadata": {
        "id": "84cb17d1"
      },
      "outputs": [],
      "source": [
        "work_location=('Bengluru','Kolkata','Chennai','raipur') #its a tuple"
      ]
    },
    {
      "cell_type": "code",
      "execution_count": null,
      "id": "a5daf213",
      "metadata": {
        "id": "a5daf213",
        "outputId": "5e77aad0-d4c8-4ade-d460-c4830fe0ae06"
      },
      "outputs": [
        {
          "data": {
            "text/plain": [
              "('Bengluru', 'Kolkata', 'Chennai', 'raipur')"
            ]
          },
          "execution_count": 4,
          "metadata": {},
          "output_type": "execute_result"
        }
      ],
      "source": [
        "work_location #PRINT it to see its content\n"
      ]
    },
    {
      "cell_type": "code",
      "execution_count": null,
      "id": "879a26e2",
      "metadata": {
        "id": "879a26e2"
      },
      "outputs": [],
      "source": [
        "#check type"
      ]
    },
    {
      "cell_type": "code",
      "execution_count": null,
      "id": "6cf319cc",
      "metadata": {
        "id": "6cf319cc",
        "outputId": "10950cd6-20c6-4aad-c508-69f46d8f9996"
      },
      "outputs": [
        {
          "data": {
            "text/plain": [
              "tuple"
            ]
          },
          "execution_count": 6,
          "metadata": {},
          "output_type": "execute_result"
        }
      ],
      "source": [
        "type(work_location) #check its type to ensure"
      ]
    },
    {
      "cell_type": "code",
      "execution_count": null,
      "id": "fd683d46",
      "metadata": {
        "id": "fd683d46"
      },
      "outputs": [],
      "source": [
        "#Lets try to add new work location.like list method"
      ]
    },
    {
      "cell_type": "code",
      "execution_count": null,
      "id": "564fa2dc",
      "metadata": {
        "id": "564fa2dc",
        "outputId": "1db7cda1-3b04-492a-ba56-f25f50193c50"
      },
      "outputs": [
        {
          "ename": "AttributeError",
          "evalue": "'tuple' object has no attribute 'append'",
          "output_type": "error",
          "traceback": [
            "\u001b[0;31m---------------------------------------------------------------------------\u001b[0m",
            "\u001b[0;31mAttributeError\u001b[0m                            Traceback (most recent call last)",
            "Cell \u001b[0;32mIn[8], line 1\u001b[0m\n\u001b[0;32m----> 1\u001b[0m \u001b[43mwork_location\u001b[49m\u001b[38;5;241;43m.\u001b[39;49m\u001b[43mappend\u001b[49m(\u001b[38;5;124m'\u001b[39m\u001b[38;5;124mKorba\u001b[39m\u001b[38;5;124m'\u001b[39m)\n",
            "\u001b[0;31mAttributeError\u001b[0m: 'tuple' object has no attribute 'append'"
          ]
        }
      ],
      "source": [
        "work_location.append('Korba') #its not add , because tuple are immutable"
      ]
    },
    {
      "cell_type": "code",
      "execution_count": null,
      "id": "c59b8ae3",
      "metadata": {
        "id": "c59b8ae3"
      },
      "outputs": [],
      "source": [
        "#Its not add , because tuple are immutable\n",
        "#But dont worry, we have a trick to add .\n",
        "#lets see how we can add.\n",
        "#first we have to convert tupple into a list."
      ]
    },
    {
      "cell_type": "code",
      "execution_count": null,
      "id": "46f1e5fa",
      "metadata": {
        "id": "46f1e5fa"
      },
      "outputs": [],
      "source": [
        "work_location=list(work_location) #convert tuple to list using list method"
      ]
    },
    {
      "cell_type": "code",
      "execution_count": null,
      "id": "5d2374cb",
      "metadata": {
        "id": "5d2374cb"
      },
      "outputs": [],
      "source": [
        "#now you can edit"
      ]
    },
    {
      "cell_type": "code",
      "execution_count": null,
      "id": "d1c042b6",
      "metadata": {
        "id": "d1c042b6"
      },
      "outputs": [],
      "source": [
        "work_location.append('Korba') #now itll work without giving error as list is mutable"
      ]
    },
    {
      "cell_type": "code",
      "execution_count": null,
      "id": "de4a2cdf",
      "metadata": {
        "id": "de4a2cdf",
        "outputId": "ebca9166-06d0-4d60-ac63-36f24cc75181"
      },
      "outputs": [
        {
          "data": {
            "text/plain": [
              "['Bengluru', 'Kolkata', 'Chennai', 'raipur', 'Korba']"
            ]
          },
          "execution_count": 12,
          "metadata": {},
          "output_type": "execute_result"
        }
      ],
      "source": [
        "work_location\n"
      ]
    },
    {
      "cell_type": "code",
      "execution_count": null,
      "id": "f235b8da",
      "metadata": {
        "id": "f235b8da"
      },
      "outputs": [],
      "source": [
        "#now back to change in tuple"
      ]
    },
    {
      "cell_type": "code",
      "execution_count": null,
      "id": "4c0e0675",
      "metadata": {
        "id": "4c0e0675"
      },
      "outputs": [],
      "source": [
        "work_location=tuple(work_location) #convert list back to tuple"
      ]
    },
    {
      "cell_type": "code",
      "execution_count": null,
      "id": "7082fdde",
      "metadata": {
        "id": "7082fdde",
        "outputId": "a1f517e9-4550-4122-cd97-d99fb7d3d0ae"
      },
      "outputs": [
        {
          "data": {
            "text/plain": [
              "('Bengluru', 'Kolkata', 'Chennai', 'raipur', 'Korba')"
            ]
          },
          "execution_count": 15,
          "metadata": {},
          "output_type": "execute_result"
        }
      ],
      "source": [
        "work_location"
      ]
    },
    {
      "cell_type": "code",
      "execution_count": null,
      "id": "0c37493c",
      "metadata": {
        "id": "0c37493c"
      },
      "outputs": [],
      "source": [
        "#Hi Hi Hi , we can change !!"
      ]
    },
    {
      "cell_type": "code",
      "execution_count": null,
      "id": "fde9dd01",
      "metadata": {
        "id": "fde9dd01"
      },
      "outputs": [],
      "source": [
        "#How many cities in tuple , i mean what is the length of tuple,\n",
        "#checking length in tuple like List.\n"
      ]
    },
    {
      "cell_type": "code",
      "execution_count": null,
      "id": "03ed8121",
      "metadata": {
        "id": "03ed8121",
        "outputId": "9f0d988e-3107-4fe5-ee24-4f7b898b9ad2"
      },
      "outputs": [
        {
          "data": {
            "text/plain": [
              "5"
            ]
          },
          "execution_count": 18,
          "metadata": {},
          "output_type": "execute_result"
        }
      ],
      "source": [
        "len(work_location) #check length of tuple"
      ]
    },
    {
      "cell_type": "code",
      "execution_count": null,
      "id": "c1b32813",
      "metadata": {
        "id": "c1b32813"
      },
      "outputs": [],
      "source": [
        "#Similarly you can work with numbers as well , no change in the concept."
      ]
    },
    {
      "cell_type": "code",
      "execution_count": null,
      "id": "bf9dfe73",
      "metadata": {
        "id": "bf9dfe73",
        "outputId": "c1533838-e47a-4b5e-d80c-e1e14f1c97bb"
      },
      "outputs": [
        {
          "data": {
            "text/plain": [
              "('Bengluru', 'Kolkata', 'Chennai', 'raipur', 'Korba')"
            ]
          },
          "execution_count": 20,
          "metadata": {},
          "output_type": "execute_result"
        }
      ],
      "source": [
        "work_location"
      ]
    },
    {
      "cell_type": "code",
      "execution_count": null,
      "id": "73316bf2",
      "metadata": {
        "id": "73316bf2"
      },
      "outputs": [],
      "source": [
        "#use indexing just like we did in list"
      ]
    },
    {
      "cell_type": "code",
      "execution_count": null,
      "id": "d64257de",
      "metadata": {
        "id": "d64257de",
        "outputId": "5c1b4538-47dd-45e2-ac55-02820b581a11"
      },
      "outputs": [
        {
          "data": {
            "text/plain": [
              "'Kolkata'"
            ]
          },
          "execution_count": 22,
          "metadata": {},
          "output_type": "execute_result"
        }
      ],
      "source": [
        "work_location[1]"
      ]
    },
    {
      "cell_type": "code",
      "execution_count": null,
      "id": "bbb1718a",
      "metadata": {
        "id": "bbb1718a"
      },
      "outputs": [],
      "source": [
        "#slicing just like a list"
      ]
    },
    {
      "cell_type": "code",
      "execution_count": null,
      "id": "bc939fbe",
      "metadata": {
        "id": "bc939fbe",
        "outputId": "03309153-7f80-477f-ce43-5992b3a5459a"
      },
      "outputs": [
        {
          "data": {
            "text/plain": [
              "'raipur'"
            ]
          },
          "execution_count": 24,
          "metadata": {},
          "output_type": "execute_result"
        }
      ],
      "source": [
        "work_location[-2]"
      ]
    },
    {
      "cell_type": "code",
      "execution_count": null,
      "id": "4d436fbd",
      "metadata": {
        "id": "4d436fbd"
      },
      "outputs": [],
      "source": [
        "#Basics Tuple Method.\n",
        "#Tuple have buit in method , but not many as list,\n",
        "#lets see two samples of tuples built in method"
      ]
    },
    {
      "cell_type": "code",
      "execution_count": null,
      "id": "aff37043",
      "metadata": {
        "id": "aff37043"
      },
      "outputs": [],
      "source": [
        "numbers=(50,60,40,90,80,70,60,50,40,70,10,20,30,7,50,50) #sample of tuple"
      ]
    },
    {
      "cell_type": "code",
      "execution_count": null,
      "id": "7add2fd0",
      "metadata": {
        "id": "7add2fd0"
      },
      "outputs": [],
      "source": [
        "#use .index to enter a value,  and return the index"
      ]
    },
    {
      "cell_type": "code",
      "execution_count": null,
      "id": "3fc226a9",
      "metadata": {
        "id": "3fc226a9",
        "outputId": "5598fc43-abcf-46db-e23b-e2e58b930595"
      },
      "outputs": [
        {
          "data": {
            "text/plain": [
              "12"
            ]
          },
          "execution_count": 28,
          "metadata": {},
          "output_type": "execute_result"
        }
      ],
      "source": [
        "numbers.index(30)"
      ]
    },
    {
      "cell_type": "code",
      "execution_count": null,
      "id": "4cf0d273",
      "metadata": {
        "id": "4cf0d273"
      },
      "outputs": [],
      "source": [
        "#Use .count to count the number of times a value appears"
      ]
    },
    {
      "cell_type": "code",
      "execution_count": null,
      "id": "d97f53d6",
      "metadata": {
        "id": "d97f53d6",
        "outputId": "f0358921-3bd2-48ca-8fca-76194ee68f16"
      },
      "outputs": [
        {
          "data": {
            "text/plain": [
              "4"
            ]
          },
          "execution_count": 30,
          "metadata": {},
          "output_type": "execute_result"
        }
      ],
      "source": [
        "numbers.count(50) #how many times 50 appeared in tuple"
      ]
    },
    {
      "cell_type": "code",
      "execution_count": null,
      "id": "fa9995d6",
      "metadata": {
        "id": "fa9995d6"
      },
      "outputs": [],
      "source": [
        "#Lets Study about Set.\n",
        "#So what is set ? set is a data structure in python. sets are an unordered collection of unique element-\n",
        "#-which can be constructed using set() fucntion."
      ]
    },
    {
      "cell_type": "code",
      "execution_count": null,
      "id": "c4d6e56b",
      "metadata": {
        "id": "c4d6e56b"
      },
      "outputs": [],
      "source": [
        "#Sets   =   1 -  Keeps item in sorted order\n",
        "#           2 - eliminate the duplicates element.\n",
        "#lets see with examples."
      ]
    },
    {
      "cell_type": "code",
      "execution_count": null,
      "id": "3c064f5e",
      "metadata": {
        "id": "3c064f5e"
      },
      "outputs": [],
      "source": [
        "roll_number=set()"
      ]
    },
    {
      "cell_type": "code",
      "execution_count": null,
      "id": "b94385eb",
      "metadata": {
        "id": "b94385eb"
      },
      "outputs": [],
      "source": [
        "#check the type"
      ]
    },
    {
      "cell_type": "code",
      "execution_count": null,
      "id": "284dc497",
      "metadata": {
        "id": "284dc497",
        "outputId": "71f3c298-d7f7-48e5-cd33-4057ae1fdfbb"
      },
      "outputs": [
        {
          "data": {
            "text/plain": [
              "set"
            ]
          },
          "execution_count": 35,
          "metadata": {},
          "output_type": "execute_result"
        }
      ],
      "source": [
        "type(roll_number)"
      ]
    },
    {
      "cell_type": "code",
      "execution_count": null,
      "id": "dab0f9ce",
      "metadata": {
        "id": "dab0f9ce"
      },
      "outputs": [],
      "source": [
        "#we add to set with the add methods"
      ]
    },
    {
      "cell_type": "code",
      "execution_count": null,
      "id": "fc81bd94",
      "metadata": {
        "id": "fc81bd94"
      },
      "outputs": [],
      "source": [
        "roll_number.add(1)"
      ]
    },
    {
      "cell_type": "code",
      "execution_count": null,
      "id": "8137fc17",
      "metadata": {
        "id": "8137fc17",
        "outputId": "81e6b134-38a4-44c8-ce83-9bde0d822ed4"
      },
      "outputs": [
        {
          "data": {
            "text/plain": [
              "{1}"
            ]
          },
          "execution_count": 38,
          "metadata": {},
          "output_type": "execute_result"
        }
      ],
      "source": [
        "roll_number"
      ]
    },
    {
      "cell_type": "code",
      "execution_count": null,
      "id": "0d426ceb",
      "metadata": {
        "id": "0d426ceb"
      },
      "outputs": [],
      "source": [
        "#we know that set has only take unique element . lets se if we add duplicates. whats python shows."
      ]
    },
    {
      "cell_type": "code",
      "execution_count": null,
      "id": "43b55c75",
      "metadata": {
        "id": "43b55c75"
      },
      "outputs": [],
      "source": [
        "#add different element"
      ]
    },
    {
      "cell_type": "code",
      "execution_count": null,
      "id": "50f30b9d",
      "metadata": {
        "id": "50f30b9d"
      },
      "outputs": [],
      "source": [
        "roll_number.add(2)"
      ]
    },
    {
      "cell_type": "code",
      "execution_count": null,
      "id": "1771565a",
      "metadata": {
        "id": "1771565a",
        "outputId": "9087e494-fccf-4fd6-c06c-9569fe79b6b8"
      },
      "outputs": [
        {
          "data": {
            "text/plain": [
              "{1, 2}"
            ]
          },
          "execution_count": 42,
          "metadata": {},
          "output_type": "execute_result"
        }
      ],
      "source": [
        "roll_number"
      ]
    },
    {
      "cell_type": "code",
      "execution_count": null,
      "id": "cd23aef9",
      "metadata": {
        "id": "cd23aef9"
      },
      "outputs": [],
      "source": [
        "#Try to add the same element\n"
      ]
    },
    {
      "cell_type": "code",
      "execution_count": null,
      "id": "6b243cf9",
      "metadata": {
        "id": "6b243cf9"
      },
      "outputs": [],
      "source": [
        "roll_number.add(1)"
      ]
    },
    {
      "cell_type": "code",
      "execution_count": null,
      "id": "51a81831",
      "metadata": {
        "id": "51a81831"
      },
      "outputs": [],
      "source": [
        "#they did not show any error. but the also dont add ion our roll_number set because its unique.\n",
        "#lets see"
      ]
    },
    {
      "cell_type": "code",
      "execution_count": null,
      "id": "f93dc596",
      "metadata": {
        "id": "f93dc596",
        "outputId": "53f77245-9441-40cd-dfbb-e965007409f6"
      },
      "outputs": [
        {
          "data": {
            "text/plain": [
              "{1, 2}"
            ]
          },
          "execution_count": 46,
          "metadata": {},
          "output_type": "execute_result"
        }
      ],
      "source": [
        "roll_number"
      ]
    },
    {
      "cell_type": "code",
      "execution_count": null,
      "id": "68496122",
      "metadata": {
        "id": "68496122"
      },
      "outputs": [],
      "source": [
        "#You have to know one thing where we use set method.\n",
        "#lets i can tell you , if we have list with numbers , but in our list lots of numbers available -\n",
        "#- and we have to find only unique element .\n",
        "#what we can do,  we can use set method to get unique element\n",
        "#lets see how its work"
      ]
    },
    {
      "cell_type": "code",
      "execution_count": null,
      "id": "0276177c",
      "metadata": {
        "id": "0276177c"
      },
      "outputs": [],
      "source": [
        "numbers=[1,2,3,4,5,6,7,8,9,1,2,3,4,56,789,12,74,74,85,96,74,85,96,4,1,52,63,52,41,56,56]"
      ]
    },
    {
      "cell_type": "code",
      "execution_count": null,
      "id": "1d17f1f1",
      "metadata": {
        "id": "1d17f1f1"
      },
      "outputs": [],
      "source": [
        "#cast to get unique elements from list"
      ]
    },
    {
      "cell_type": "code",
      "execution_count": null,
      "id": "aaf6c82b",
      "metadata": {
        "id": "aaf6c82b"
      },
      "outputs": [],
      "source": [
        "remove_duplicate=set(numbers) #cast to get unique elements from list"
      ]
    },
    {
      "cell_type": "code",
      "execution_count": null,
      "id": "c874a547",
      "metadata": {
        "id": "c874a547",
        "outputId": "e57b0f82-738c-4128-ac7c-dcf3663830cf"
      },
      "outputs": [
        {
          "data": {
            "text/plain": [
              "{1, 2, 3, 4, 5, 6, 7, 8, 9, 12, 41, 52, 56, 63, 74, 85, 96, 789}"
            ]
          },
          "execution_count": 51,
          "metadata": {},
          "output_type": "execute_result"
        }
      ],
      "source": [
        "remove_duplicate #lets see the can show only unique element ."
      ]
    },
    {
      "cell_type": "code",
      "execution_count": null,
      "id": "1a3fa092",
      "metadata": {
        "id": "1a3fa092"
      },
      "outputs": [],
      "source": [
        "#again you can covert to list if you want (after removing duplicates)"
      ]
    },
    {
      "cell_type": "code",
      "execution_count": null,
      "id": "bf4b579a",
      "metadata": {
        "id": "bf4b579a"
      },
      "outputs": [],
      "source": [
        "numberss=list(remove_duplicate) #again you can covert to list if you want (after removing duplicates)"
      ]
    },
    {
      "cell_type": "code",
      "execution_count": null,
      "id": "dd013a63",
      "metadata": {
        "id": "dd013a63"
      },
      "outputs": [],
      "source": [
        "#lets do"
      ]
    },
    {
      "cell_type": "code",
      "execution_count": null,
      "id": "cd21c7cf",
      "metadata": {
        "id": "cd21c7cf"
      },
      "outputs": [],
      "source": [
        "#Now Study about dictionary\n",
        "# what is dictionary ? dictionary is also a data staructure,dictionary contain keys:value in curly {} brackets.\n",
        "#dictionary will take corresponding value\n",
        "#we can construct dictionary to get better understanding.\n"
      ]
    },
    {
      "cell_type": "code",
      "execution_count": null,
      "id": "562127cf",
      "metadata": {
        "id": "562127cf"
      },
      "outputs": [],
      "source": [
        "my_dict={'key1':'value1','key2':'value2'} #construct dictionary"
      ]
    },
    {
      "cell_type": "code",
      "execution_count": null,
      "id": "48debc84",
      "metadata": {
        "id": "48debc84",
        "outputId": "2dc8243a-c5f0-4f5c-fe49-d5ef5ea5ba98"
      },
      "outputs": [
        {
          "data": {
            "text/plain": [
              "{'key1': 'value1', 'key2': 'value2'}"
            ]
          },
          "execution_count": 57,
          "metadata": {},
          "output_type": "execute_result"
        }
      ],
      "source": [
        "my_dict"
      ]
    },
    {
      "cell_type": "code",
      "execution_count": null,
      "id": "44484351",
      "metadata": {
        "id": "44484351"
      },
      "outputs": [],
      "source": [
        "#call the value by their key"
      ]
    },
    {
      "cell_type": "code",
      "execution_count": null,
      "id": "b42ae2d3",
      "metadata": {
        "id": "b42ae2d3",
        "outputId": "57298e97-d347-46fa-9b60-ce05cb548b06"
      },
      "outputs": [
        {
          "data": {
            "text/plain": [
              "'value1'"
            ]
          },
          "execution_count": 59,
          "metadata": {},
          "output_type": "execute_result"
        }
      ],
      "source": [
        "my_dict['key1']"
      ]
    },
    {
      "cell_type": "code",
      "execution_count": null,
      "id": "b455ce48",
      "metadata": {
        "id": "b455ce48"
      },
      "outputs": [],
      "source": [
        "#note that dictionary are very comforatblw with all data types."
      ]
    },
    {
      "cell_type": "code",
      "execution_count": null,
      "id": "c2cd38cf",
      "metadata": {
        "id": "c2cd38cf"
      },
      "outputs": [],
      "source": [
        "my_dict={'Roll Number':123,'Subjects':['Maths','science','Computer'],'Marks':[24,29,25]}  #student details stored in dictionary such as roll number,subject,marks"
      ]
    },
    {
      "cell_type": "code",
      "execution_count": null,
      "id": "e6739456",
      "metadata": {
        "id": "e6739456",
        "outputId": "660cd1d1-b781-46e0-fd5a-90b13e3096f7"
      },
      "outputs": [
        {
          "data": {
            "text/plain": [
              "{'Roll Number': 123,\n",
              " 'Subjects': ['Maths', 'science', 'Computer'],\n",
              " 'Marks': [24, 29, 25]}"
            ]
          },
          "execution_count": 62,
          "metadata": {},
          "output_type": "execute_result"
        }
      ],
      "source": [
        "my_dict #print the items"
      ]
    },
    {
      "cell_type": "code",
      "execution_count": null,
      "id": "a6481507",
      "metadata": {
        "id": "a6481507"
      },
      "outputs": [],
      "source": [
        "#Lets call specific items from the dictionary\n"
      ]
    },
    {
      "cell_type": "code",
      "execution_count": null,
      "id": "3d2286c1",
      "metadata": {
        "id": "3d2286c1",
        "outputId": "c98cf0fc-e401-4821-bccf-84f8e0966fe8"
      },
      "outputs": [
        {
          "data": {
            "text/plain": [
              "['Maths', 'science', 'Computer']"
            ]
          },
          "execution_count": 64,
          "metadata": {},
          "output_type": "execute_result"
        }
      ],
      "source": [
        "my_dict['Subjects']"
      ]
    },
    {
      "cell_type": "code",
      "execution_count": null,
      "id": "e21f29f5",
      "metadata": {
        "id": "e21f29f5"
      },
      "outputs": [],
      "source": [
        "#can call  an index on that value."
      ]
    },
    {
      "cell_type": "code",
      "execution_count": null,
      "id": "f2860172",
      "metadata": {
        "id": "f2860172",
        "outputId": "4a2dd729-1a19-48ff-b5ce-9187a19c7f7c"
      },
      "outputs": [
        {
          "data": {
            "text/plain": [
              "'Maths'"
            ]
          },
          "execution_count": 66,
          "metadata": {},
          "output_type": "execute_result"
        }
      ],
      "source": [
        "my_dict['Subjects'][0]"
      ]
    },
    {
      "cell_type": "code",
      "execution_count": null,
      "id": "c2a51ba6",
      "metadata": {
        "id": "c2a51ba6",
        "outputId": "ad761365-2869-4397-b646-556bd3543928"
      },
      "outputs": [
        {
          "data": {
            "text/plain": [
              "'science'"
            ]
          },
          "execution_count": 67,
          "metadata": {},
          "output_type": "execute_result"
        }
      ],
      "source": [
        "my_dict['Subjects'][1]"
      ]
    },
    {
      "cell_type": "code",
      "execution_count": null,
      "id": "4835f82c",
      "metadata": {
        "id": "4835f82c",
        "outputId": "5193267a-088d-4094-d54b-fd986ac87220"
      },
      "outputs": [
        {
          "data": {
            "text/plain": [
              "'Computer'"
            ]
          },
          "execution_count": 68,
          "metadata": {},
          "output_type": "execute_result"
        }
      ],
      "source": [
        "my_dict['Subjects'][2]"
      ]
    },
    {
      "cell_type": "code",
      "execution_count": null,
      "id": "4df952b5",
      "metadata": {
        "id": "4df952b5"
      },
      "outputs": [],
      "source": [
        "#we cal aslo capitalise the element which can present in dictionary"
      ]
    },
    {
      "cell_type": "code",
      "execution_count": null,
      "id": "d91ee403",
      "metadata": {
        "id": "d91ee403",
        "outputId": "157ced1f-a6c5-434b-aa59-ba9bc1bcbe1b"
      },
      "outputs": [
        {
          "data": {
            "text/plain": [
              "'COMPUTER'"
            ]
          },
          "execution_count": 70,
          "metadata": {},
          "output_type": "execute_result"
        }
      ],
      "source": [
        "my_dict['Subjects'][2].upper()"
      ]
    },
    {
      "cell_type": "code",
      "execution_count": null,
      "id": "aaa8d9a3",
      "metadata": {
        "id": "aaa8d9a3"
      },
      "outputs": [],
      "source": [
        "#add Marks to the first element"
      ]
    },
    {
      "cell_type": "code",
      "execution_count": null,
      "id": "1008394f",
      "metadata": {
        "id": "1008394f",
        "outputId": "c69d4bd9-36e1-4281-f78f-4fba27a725e4"
      },
      "outputs": [
        {
          "data": {
            "text/plain": [
              "{'Roll Number': 123,\n",
              " 'Subjects': ['Maths', 'science', 'Computer'],\n",
              " 'Marks': [24, 29, 25]}"
            ]
          },
          "execution_count": 72,
          "metadata": {},
          "output_type": "execute_result"
        }
      ],
      "source": [
        "my_dict"
      ]
    },
    {
      "cell_type": "code",
      "execution_count": null,
      "id": "72b5912d",
      "metadata": {
        "id": "72b5912d"
      },
      "outputs": [],
      "source": [
        "my_dict['Marks'][0]=my_dict['Marks'][0]+6"
      ]
    },
    {
      "cell_type": "code",
      "execution_count": null,
      "id": "1dcf0b39",
      "metadata": {
        "id": "1dcf0b39",
        "outputId": "b3ac3f3a-8d40-48fd-856d-66b824f6173f"
      },
      "outputs": [
        {
          "data": {
            "text/plain": [
              "{'Roll Number': 123,\n",
              " 'Subjects': ['Maths', 'science', 'Computer'],\n",
              " 'Marks': [30, 29, 25]}"
            ]
          },
          "execution_count": 74,
          "metadata": {},
          "output_type": "execute_result"
        }
      ],
      "source": [
        "my_dict"
      ]
    },
    {
      "cell_type": "code",
      "execution_count": null,
      "id": "084c466e",
      "metadata": {
        "id": "084c466e"
      },
      "outputs": [],
      "source": [
        "#Python can multiple, addition , substraction and divide .\n"
      ]
    },
    {
      "cell_type": "code",
      "execution_count": null,
      "id": "b2621106",
      "metadata": {
        "id": "b2621106"
      },
      "outputs": [],
      "source": [
        "#another way of adding"
      ]
    },
    {
      "cell_type": "code",
      "execution_count": null,
      "id": "6d0df818",
      "metadata": {
        "id": "6d0df818"
      },
      "outputs": [],
      "source": [
        "my_dict['Marks'][0]+=4"
      ]
    },
    {
      "cell_type": "code",
      "execution_count": null,
      "id": "d73c434a",
      "metadata": {
        "id": "d73c434a",
        "outputId": "9e1881c5-18ec-4135-ea1b-77dbb69a5ce6"
      },
      "outputs": [
        {
          "data": {
            "text/plain": [
              "{'Roll Number': 123,\n",
              " 'Subjects': ['Maths', 'science', 'Computer'],\n",
              " 'Marks': [34, 29, 25]}"
            ]
          },
          "execution_count": 78,
          "metadata": {},
          "output_type": "execute_result"
        }
      ],
      "source": [
        "my_dict"
      ]
    },
    {
      "cell_type": "code",
      "execution_count": null,
      "id": "db7f448d",
      "metadata": {
        "id": "db7f448d"
      },
      "outputs": [],
      "source": [
        "#lets subtract"
      ]
    },
    {
      "cell_type": "code",
      "execution_count": null,
      "id": "481ded0d",
      "metadata": {
        "id": "481ded0d"
      },
      "outputs": [],
      "source": [
        "my_dict['Marks'][0]-=4"
      ]
    },
    {
      "cell_type": "code",
      "execution_count": null,
      "id": "19fe0e7a",
      "metadata": {
        "id": "19fe0e7a",
        "outputId": "a76089de-5d23-4ebf-8d73-1781a56f0774"
      },
      "outputs": [
        {
          "data": {
            "text/plain": [
              "{'Roll Number': 123,\n",
              " 'Subjects': ['Maths', 'science', 'Computer'],\n",
              " 'Marks': [30, 29, 25]}"
            ]
          },
          "execution_count": 81,
          "metadata": {},
          "output_type": "execute_result"
        }
      ],
      "source": [
        "my_dict"
      ]
    },
    {
      "cell_type": "code",
      "execution_count": null,
      "id": "078302b0",
      "metadata": {
        "id": "078302b0"
      },
      "outputs": [],
      "source": [
        "#How we can add key .and values ."
      ]
    },
    {
      "cell_type": "code",
      "execution_count": null,
      "id": "0ff76368",
      "metadata": {
        "id": "0ff76368"
      },
      "outputs": [],
      "source": [
        "my_dict['Year']=2015"
      ]
    },
    {
      "cell_type": "code",
      "execution_count": null,
      "id": "1be4db68",
      "metadata": {
        "id": "1be4db68",
        "outputId": "22b3d6ad-0bb1-4e9a-96aa-938d8c6c24c9"
      },
      "outputs": [
        {
          "data": {
            "text/plain": [
              "{'Roll Number': 123,\n",
              " 'Subjects': ['Maths', 'science', 'Computer'],\n",
              " 'Marks': [30, 29, 25],\n",
              " 'Year': 2015}"
            ]
          },
          "execution_count": 84,
          "metadata": {},
          "output_type": "execute_result"
        }
      ],
      "source": [
        "my_dict"
      ]
    },
    {
      "cell_type": "code",
      "execution_count": null,
      "id": "4d07370a",
      "metadata": {
        "id": "4d07370a"
      },
      "outputs": [],
      "source": [
        "#lets note down one thing. if we have to add key and value , with the help of last used method\n",
        "# we have to enter key and value , if the key name is already present in dictionary .\n",
        "# they will add  the value in old keys., this reason for we have have to write new key name."
      ]
    },
    {
      "cell_type": "code",
      "execution_count": null,
      "id": "e8560381",
      "metadata": {
        "id": "e8560381"
      },
      "outputs": [],
      "source": [
        "#Update values()"
      ]
    },
    {
      "cell_type": "code",
      "execution_count": null,
      "id": "7e7e6c87",
      "metadata": {
        "id": "7e7e6c87"
      },
      "outputs": [],
      "source": [
        "my_dict.update({'Roll Number':100})"
      ]
    },
    {
      "cell_type": "code",
      "execution_count": null,
      "id": "97e2229d",
      "metadata": {
        "id": "97e2229d",
        "outputId": "7288f2dd-efa5-451b-9bb2-954eb1096dfd"
      },
      "outputs": [
        {
          "data": {
            "text/plain": [
              "{'Roll Number': 100,\n",
              " 'Subjects': ['Maths', 'science', 'Computer'],\n",
              " 'Marks': [30, 29, 25],\n",
              " 'Year': 2015}"
            ]
          },
          "execution_count": 88,
          "metadata": {},
          "output_type": "execute_result"
        }
      ],
      "source": [
        "my_dict"
      ]
    },
    {
      "cell_type": "code",
      "execution_count": null,
      "id": "ab47be4c",
      "metadata": {
        "id": "ab47be4c"
      },
      "outputs": [],
      "source": [
        "#Items will return both keys and corresponding values."
      ]
    },
    {
      "cell_type": "code",
      "execution_count": null,
      "id": "0f761e07",
      "metadata": {
        "id": "0f761e07",
        "outputId": "553e7014-f7f8-4d8a-f603-fea4149e7ddb"
      },
      "outputs": [
        {
          "data": {
            "text/plain": [
              "dict_items([('Roll Number', 100), ('Subjects', ['Maths', 'science', 'Computer']), ('Marks', [30, 29, 25]), ('Year', 2015)])"
            ]
          },
          "execution_count": 90,
          "metadata": {},
          "output_type": "execute_result"
        }
      ],
      "source": [
        "my_dict.items()"
      ]
    },
    {
      "cell_type": "code",
      "execution_count": null,
      "id": "b205a00d",
      "metadata": {
        "id": "b205a00d"
      },
      "outputs": [],
      "source": [
        "#Branching (if,elif,else).      what is elif ? else + if =elif\n",
        "#Puthon provide the if statement to allow branching based on condition. multiple elif checks-\n",
        "# - can also be peformed followed by an optional else caluse. the statment can be used with any evaluation of truthiness."
      ]
    },
    {
      "cell_type": "code",
      "execution_count": null,
      "id": "d5c197b1",
      "metadata": {
        "id": "d5c197b1"
      },
      "outputs": [],
      "source": [
        "#In my word branching (if,elif ,else) they can provide us to check truthiness of elements\n",
        "# you would better understand with example\n",
        "#lets se example"
      ]
    },
    {
      "cell_type": "code",
      "execution_count": null,
      "id": "eecb150d",
      "metadata": {
        "id": "eecb150d",
        "outputId": "27168216-d89c-4019-d628-975d60ad2315"
      },
      "outputs": [
        {
          "name": "stdout",
          "output_type": "stream",
          "text": [
            "i is samller\n"
          ]
        }
      ],
      "source": [
        "i =10\n",
        "if i<11: # definitely you have doubt whay print is in space, is know as indentation.means four space\n",
        "    print('i is smaller')\n",
        "else:\n",
        "    print('i is greater')"
      ]
    },
    {
      "cell_type": "code",
      "execution_count": null,
      "id": "b08b46a7",
      "metadata": {
        "id": "b08b46a7"
      },
      "outputs": [],
      "source": [
        "#You can write in this way (2nd way to write (if,elif,else)statement)"
      ]
    },
    {
      "cell_type": "code",
      "execution_count": null,
      "id": "1a3e157e",
      "metadata": {
        "id": "1a3e157e",
        "outputId": "a5ebddcd-b339-4365-c9ed-54cde814a830"
      },
      "outputs": [
        {
          "name": "stdout",
          "output_type": "stream",
          "text": [
            "i is smaller\n"
          ]
        }
      ],
      "source": [
        "print('i is smaller')if i<11 else print('i is greater') #the above statement is same as this statement but in one line"
      ]
    },
    {
      "cell_type": "code",
      "execution_count": null,
      "id": "6dfc6ad8",
      "metadata": {
        "id": "6dfc6ad8"
      },
      "outputs": [],
      "source": [
        "#lets se with another example.\n",
        "#free shipping message"
      ]
    },
    {
      "cell_type": "code",
      "execution_count": null,
      "id": "c7490d15",
      "metadata": {
        "id": "c7490d15",
        "outputId": "5c2d9e88-0f44-4652-ccb9-1e537c18803c"
      },
      "outputs": [
        {
          "name": "stdout",
          "output_type": "stream",
          "text": [
            "please add 100 Rs worth for free shipping\n"
          ]
        }
      ],
      "source": [
        "item_1=100\n",
        "item_2=300\n",
        "\n",
        "if (item_1+item_2)>=500:\n",
        "    print('Your item in eligible for free shipping')\n",
        "else:\n",
        "    extra=500-(item_1+item_2)\n",
        "    print('please add',extra,'Rs worth for free shipping')"
      ]
    },
    {
      "cell_type": "code",
      "execution_count": null,
      "id": "3de997ab",
      "metadata": {
        "id": "3de997ab"
      },
      "outputs": [],
      "source": [
        "#Lets see different example with 'and' method\n"
      ]
    },
    {
      "cell_type": "code",
      "execution_count": null,
      "id": "f8f58bb8",
      "metadata": {
        "id": "f8f58bb8",
        "outputId": "b8bb66ed-06e0-426e-feb5-0a2850297999"
      },
      "outputs": [
        {
          "name": "stdout",
          "output_type": "stream",
          "text": [
            "Both condion are wrong\n"
          ]
        }
      ],
      "source": [
        "a=200\n",
        "b=33\n",
        "c=500\n",
        "\n",
        "if a>b and c<a:\n",
        "    print('Both condtion are true')\n",
        "else:\n",
        "    print('Both condion are wrong') #because c>a is false"
      ]
    },
    {
      "cell_type": "code",
      "execution_count": null,
      "id": "c8641cba",
      "metadata": {
        "id": "c8641cba"
      },
      "outputs": [],
      "source": [
        "#Lets see different example with 'or' method"
      ]
    },
    {
      "cell_type": "code",
      "execution_count": null,
      "id": "51a74b1d",
      "metadata": {
        "id": "51a74b1d",
        "outputId": "216ad708-c9e4-41f9-c64f-185ad0856989"
      },
      "outputs": [
        {
          "name": "stdout",
          "output_type": "stream",
          "text": [
            "Atleast one of the condition are true\n"
          ]
        }
      ],
      "source": [
        "a=200\n",
        "b=33\n",
        "c=500\n",
        "\n",
        "if a>b or c<a: #if one of the condition is true in this case a>b is true\n",
        "    print('Atleast one of the condition are true') #print this\n",
        "else:\n",
        "    print('Both condition are wrong') #otherwise print this\n"
      ]
    },
    {
      "cell_type": "code",
      "execution_count": null,
      "id": "8cf79919",
      "metadata": {
        "id": "8cf79919"
      },
      "outputs": [],
      "source": [
        "#Lets see with Different Example\n",
        "#Lets check Student leve"
      ]
    },
    {
      "cell_type": "code",
      "execution_count": null,
      "id": "514203be",
      "metadata": {
        "id": "514203be",
        "outputId": "b5e9fd51-5f63-468f-cf6e-b424726307ac"
      },
      "outputs": [
        {
          "name": "stdout",
          "output_type": "stream",
          "text": [
            "60 First class\n"
          ]
        }
      ],
      "source": [
        "#Lets check marks and print student level\n",
        "marks=60\n",
        "\n",
        "if marks>=60:\n",
        "    if  marks>70:\n",
        "        print(marks,'distiction')\n",
        "    else:\n",
        "        print(marks,'First class')\n",
        "elif marks>50 and marks<60:\n",
        "    print(marks,'second division')\n",
        "elif marks>35:\n",
        "    print(marks,'Just pass')\n",
        "else:\n",
        "    ('marks','Fail Better luck next time')"
      ]
    },
    {
      "cell_type": "code",
      "execution_count": null,
      "id": "0ed19485",
      "metadata": {
        "id": "0ed19485"
      },
      "outputs": [],
      "source": [
        "#See with another example"
      ]
    },
    {
      "cell_type": "code",
      "execution_count": null,
      "id": "b7af2ca7",
      "metadata": {
        "id": "b7af2ca7",
        "outputId": "9c5d40e3-e279-4346-8d7c-013c751d31ae"
      },
      "outputs": [
        {
          "name": "stdout",
          "output_type": "stream",
          "text": [
            "20 is greater\n"
          ]
        }
      ],
      "source": [
        "num1=20\n",
        "num2=30\n",
        "if num1<num2:\n",
        "    print(num1,'is greater')\n",
        "elif num2==31:\n",
        "    print(num2,'is equal to 31')\n"
      ]
    },
    {
      "cell_type": "code",
      "execution_count": null,
      "id": "43a4abc4",
      "metadata": {
        "id": "43a4abc4"
      },
      "outputs": [],
      "source": [
        "#Thats all about Branching(if,elif,else)\n"
      ]
    },
    {
      "cell_type": "code",
      "execution_count": null,
      "id": "73d4cb6d",
      "metadata": {
        "id": "73d4cb6d"
      },
      "outputs": [],
      "source": [
        "#AI/ML Engineer-Saurav\n",
        "#Date-26 june 2024\n",
        "#Time- 10:12\n"
      ]
    },
    {
      "cell_type": "code",
      "execution_count": null,
      "id": "7c6267bd-87ec-4d53-811f-c0fa416404d3",
      "metadata": {
        "id": "7c6267bd-87ec-4d53-811f-c0fa416404d3"
      },
      "outputs": [],
      "source": []
    },
    {
      "cell_type": "code",
      "execution_count": null,
      "id": "78ae16f7-182a-481f-863d-e3bd425723c8",
      "metadata": {
        "id": "78ae16f7-182a-481f-863d-e3bd425723c8"
      },
      "outputs": [],
      "source": []
    },
    {
      "cell_type": "code",
      "execution_count": null,
      "id": "c3ccbe1f-95c7-40e8-b20a-290a2c4beeab",
      "metadata": {
        "id": "c3ccbe1f-95c7-40e8-b20a-290a2c4beeab"
      },
      "outputs": [],
      "source": []
    },
    {
      "cell_type": "code",
      "execution_count": null,
      "id": "0a0cc37d-86f5-4cc1-b634-f5b3672e1c13",
      "metadata": {
        "id": "0a0cc37d-86f5-4cc1-b634-f5b3672e1c13"
      },
      "outputs": [],
      "source": []
    }
  ],
  "metadata": {
    "kernelspec": {
      "display_name": "Python 3 (ipykernel)",
      "language": "python",
      "name": "python3"
    },
    "language_info": {
      "codemirror_mode": {
        "name": "ipython",
        "version": 3
      },
      "file_extension": ".py",
      "mimetype": "text/x-python",
      "name": "python",
      "nbconvert_exporter": "python",
      "pygments_lexer": "ipython3",
      "version": "3.10.12"
    },
    "colab": {
      "provenance": []
    }
  },
  "nbformat": 4,
  "nbformat_minor": 5
}