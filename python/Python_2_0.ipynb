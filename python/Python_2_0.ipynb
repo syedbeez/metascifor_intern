{
  "cells": [
    {
      "cell_type": "code",
      "execution_count": null,
      "id": "bcc1e323",
      "metadata": {
        "id": "bcc1e323"
      },
      "outputs": [],
      "source": [
        "#AI/ML\n",
        "#Basics Python\n",
        "#Lets Continue with Complex Number then we study about string and list.\n"
      ]
    },
    {
      "cell_type": "code",
      "execution_count": null,
      "id": "720a88e3",
      "metadata": {
        "id": "720a88e3"
      },
      "outputs": [],
      "source": [
        "#lets start with complex number\n",
        "#Complex Number ? A complex number which can we studied in ou school. its abot real number and imaginary number ,\n",
        "#which can be denote as i,\n",
        "#example of complex number - 2+5i, But in pyhton i is denoted with j\n",
        "#see example in jupyer cell."
      ]
    },
    {
      "cell_type": "code",
      "execution_count": null,
      "id": "75aae4a2",
      "metadata": {
        "id": "75aae4a2"
      },
      "outputs": [],
      "source": [
        "c=2+5j"
      ]
    },
    {
      "cell_type": "code",
      "execution_count": null,
      "id": "aedad326",
      "metadata": {
        "id": "aedad326",
        "outputId": "5aa62882-4e87-4f59-f219-bf868f122b0a"
      },
      "outputs": [
        {
          "data": {
            "text/plain": [
              "complex"
            ]
          },
          "execution_count": 5,
          "metadata": {},
          "output_type": "execute_result"
        }
      ],
      "source": [
        "type(c)"
      ]
    },
    {
      "cell_type": "code",
      "execution_count": null,
      "id": "c4a4b68a",
      "metadata": {
        "id": "c4a4b68a"
      },
      "outputs": [],
      "source": [
        "#but in data science we dont use complex number."
      ]
    },
    {
      "cell_type": "code",
      "execution_count": null,
      "id": "88df7559",
      "metadata": {
        "id": "88df7559"
      },
      "outputs": [],
      "source": [
        "#String. What is string - String when we use alphabet in single,double and tripple quotes\n",
        "#tripple quote is also used for documentation\n",
        "#see example of String"
      ]
    },
    {
      "cell_type": "code",
      "execution_count": null,
      "id": "9a62686c",
      "metadata": {
        "id": "9a62686c"
      },
      "outputs": [],
      "source": [
        "a='Ram is hero' #this is string"
      ]
    },
    {
      "cell_type": "code",
      "execution_count": null,
      "id": "fcf965cb",
      "metadata": {
        "id": "fcf965cb",
        "outputId": "ae1a6032-345c-48f7-fa09-ffc41ab7f1b7"
      },
      "outputs": [
        {
          "data": {
            "text/plain": [
              "'Ram is hero'"
            ]
          },
          "execution_count": 2,
          "metadata": {},
          "output_type": "execute_result"
        }
      ],
      "source": [
        "a"
      ]
    },
    {
      "cell_type": "code",
      "execution_count": null,
      "id": "2b5fcf2a",
      "metadata": {
        "id": "2b5fcf2a",
        "outputId": "aafdbb46-40c5-4620-d04a-3ed5c9c2210a"
      },
      "outputs": [
        {
          "data": {
            "text/plain": [
              "str"
            ]
          },
          "execution_count": 3,
          "metadata": {},
          "output_type": "execute_result"
        }
      ],
      "source": [
        "type(a) #we check type to ensure its string"
      ]
    },
    {
      "cell_type": "code",
      "execution_count": null,
      "id": "7dd16562",
      "metadata": {
        "id": "7dd16562"
      },
      "outputs": [],
      "source": [
        "#one more example\n"
      ]
    },
    {
      "cell_type": "code",
      "execution_count": null,
      "id": "186ec409",
      "metadata": {
        "id": "186ec409"
      },
      "outputs": [],
      "source": [
        "#we have created 3 individual strings give space in front of str2 qand str3\n",
        "str1='python'\n",
        "str2=' is a powerful'\n",
        "str3=' language'"
      ]
    },
    {
      "cell_type": "code",
      "execution_count": null,
      "id": "46e3b359",
      "metadata": {
        "id": "46e3b359"
      },
      "outputs": [],
      "source": [
        "#how we add str1,str2 and str2 together how we added numbers before"
      ]
    },
    {
      "cell_type": "code",
      "execution_count": null,
      "id": "3853bfe6",
      "metadata": {
        "id": "3853bfe6",
        "outputId": "0b279938-9dde-4194-cb1b-e095c1bdcf13"
      },
      "outputs": [
        {
          "name": "stdout",
          "output_type": "stream",
          "text": [
            "python is a powerful language\n"
          ]
        }
      ],
      "source": [
        "print(str1+str2+str3)"
      ]
    },
    {
      "cell_type": "code",
      "execution_count": null,
      "id": "4508c74f",
      "metadata": {
        "id": "4508c74f"
      },
      "outputs": [],
      "source": [
        "#we can add directly without ececuting codes"
      ]
    },
    {
      "cell_type": "code",
      "execution_count": null,
      "id": "dff35c98",
      "metadata": {
        "id": "dff35c98",
        "outputId": "2230a6b3-0eea-40ea-cf1b-32af350c0f2f"
      },
      "outputs": [
        {
          "name": "stdout",
          "output_type": "stream",
          "text": [
            "saurav is ex  mining engineer\n"
          ]
        }
      ],
      "source": [
        "print(\"saurav\"+\" is ex\",\" mining engineer\")"
      ]
    },
    {
      "cell_type": "code",
      "execution_count": null,
      "id": "49fef75e",
      "metadata": {
        "id": "49fef75e"
      },
      "outputs": [],
      "source": [
        "#other operation on string"
      ]
    },
    {
      "cell_type": "code",
      "execution_count": null,
      "id": "6183c0de",
      "metadata": {
        "id": "6183c0de",
        "outputId": "89f986b2-1b7a-4903-b1d7-3507359aeadf"
      },
      "outputs": [
        {
          "name": "stdout",
          "output_type": "stream",
          "text": [
            "  Day  Day  Day  Day  Day\n"
          ]
        }
      ],
      "source": [
        "print('  Day' *  5)  #(* use for multiplication) to print a string more than once efficiently"
      ]
    },
    {
      "cell_type": "code",
      "execution_count": null,
      "id": "84622d26",
      "metadata": {
        "id": "84622d26",
        "outputId": "140d9212-90ec-4781-b519-2714a76f29ef"
      },
      "outputs": [
        {
          "name": "stdout",
          "output_type": "stream",
          "text": [
            " = = = = = = = = = = = = = = = = = = = = = = = = = = = = = = = = = = = = = = = = = = = = = = = = = = = = = = = = = = = = = = = = = = = = = = = = = = = = = = = = = = = = = = = = = = = = = = = = = = = =\n"
          ]
        }
      ],
      "source": [
        "print(' =' * 100)"
      ]
    },
    {
      "cell_type": "code",
      "source": [
        "print(' = \\n' * 100) #\\n use for new line"
      ],
      "metadata": {
        "colab": {
          "base_uri": "https://localhost:8080/"
        },
        "id": "KTILd-ugfzyL",
        "outputId": "43804226-83e2-4edc-d999-adf815bf9440"
      },
      "id": "KTILd-ugfzyL",
      "execution_count": 2,
      "outputs": [
        {
          "output_type": "stream",
          "name": "stdout",
          "text": [
            " = \n",
            " = \n",
            " = \n",
            " = \n",
            " = \n",
            " = \n",
            " = \n",
            " = \n",
            " = \n",
            " = \n",
            " = \n",
            " = \n",
            " = \n",
            " = \n",
            " = \n",
            " = \n",
            " = \n",
            " = \n",
            " = \n",
            " = \n",
            " = \n",
            " = \n",
            " = \n",
            " = \n",
            " = \n",
            " = \n",
            " = \n",
            " = \n",
            " = \n",
            " = \n",
            " = \n",
            " = \n",
            " = \n",
            " = \n",
            " = \n",
            " = \n",
            " = \n",
            " = \n",
            " = \n",
            " = \n",
            " = \n",
            " = \n",
            " = \n",
            " = \n",
            " = \n",
            " = \n",
            " = \n",
            " = \n",
            " = \n",
            " = \n",
            " = \n",
            " = \n",
            " = \n",
            " = \n",
            " = \n",
            " = \n",
            " = \n",
            " = \n",
            " = \n",
            " = \n",
            " = \n",
            " = \n",
            " = \n",
            " = \n",
            " = \n",
            " = \n",
            " = \n",
            " = \n",
            " = \n",
            " = \n",
            " = \n",
            " = \n",
            " = \n",
            " = \n",
            " = \n",
            " = \n",
            " = \n",
            " = \n",
            " = \n",
            " = \n",
            " = \n",
            " = \n",
            " = \n",
            " = \n",
            " = \n",
            " = \n",
            " = \n",
            " = \n",
            " = \n",
            " = \n",
            " = \n",
            " = \n",
            " = \n",
            " = \n",
            " = \n",
            " = \n",
            " = \n",
            " = \n",
            " = \n",
            " = \n",
            "\n"
          ]
        }
      ]
    },
    {
      "cell_type": "code",
      "execution_count": null,
      "id": "33b1afbe",
      "metadata": {
        "id": "33b1afbe"
      },
      "outputs": [],
      "source": [
        "#lets add string + integer"
      ]
    },
    {
      "cell_type": "code",
      "execution_count": null,
      "id": "f1058940",
      "metadata": {
        "id": "f1058940",
        "outputId": "eec1b180-0108-4238-fd2e-cea1ad8f727b"
      },
      "outputs": [
        {
          "ename": "TypeError",
          "evalue": "can only concatenate str (not \"int\") to str",
          "output_type": "error",
          "traceback": [
            "\u001b[0;31m---------------------------------------------------------------------------\u001b[0m",
            "\u001b[0;31mTypeError\u001b[0m                                 Traceback (most recent call last)",
            "Cell \u001b[0;32mIn[14], line 1\u001b[0m\n\u001b[0;32m----> 1\u001b[0m \u001b[38;5;28mprint\u001b[39m(\u001b[38;5;124;43m'\u001b[39;49m\u001b[38;5;124;43mDay\u001b[39;49m\u001b[38;5;124;43m'\u001b[39;49m\u001b[43m \u001b[49m\u001b[38;5;241;43m+\u001b[39;49m\u001b[43m \u001b[49m\u001b[38;5;241;43m5\u001b[39;49m)\n",
            "\u001b[0;31mTypeError\u001b[0m: can only concatenate str (not \"int\") to str"
          ]
        }
      ],
      "source": [
        "print('Day' + 5) #it will give error"
      ]
    },
    {
      "cell_type": "code",
      "execution_count": null,
      "id": "5501328c",
      "metadata": {
        "id": "5501328c"
      },
      "outputs": [],
      "source": [
        "#How we can concatenate string + integer ?\n",
        "#we gave to convert integer into sring."
      ]
    },
    {
      "cell_type": "code",
      "execution_count": null,
      "id": "6ce2aab1",
      "metadata": {
        "id": "6ce2aab1",
        "outputId": "d05c0734-db1d-4be2-cbe8-3b29d1b17c09"
      },
      "outputs": [
        {
          "name": "stdout",
          "output_type": "stream",
          "text": [
            "Day5\n"
          ]
        }
      ],
      "source": [
        "print('Day' + str(5)) #it will work"
      ]
    },
    {
      "cell_type": "code",
      "execution_count": null,
      "id": "1380ef6e",
      "metadata": {
        "id": "1380ef6e"
      },
      "outputs": [],
      "source": [
        "#Now We Studied about Data Structure.\n",
        "#what is data structure ? Data structure which can hold,store and save out data\n",
        "#there are different different typre data structure\n",
        "#1- List\n",
        "#2- Tuple\n",
        "#3- Set\n",
        "#4- Dictionary\n"
      ]
    },
    {
      "cell_type": "code",
      "execution_count": null,
      "id": "ad1ba17e",
      "metadata": {
        "id": "ad1ba17e"
      },
      "outputs": [],
      "source": [
        "#Lets Start with list\n",
        "#So, What is list?, List is like a container which can hold our data ., and list is always in square brackets [].\n",
        "#Accommodate all types of data.\n",
        "#list are mutable.\n",
        "#what is mutable ? mutalbe means where we can edit(update,insert,add,count)our data."
      ]
    },
    {
      "cell_type": "code",
      "execution_count": null,
      "id": "3190dc1f",
      "metadata": {
        "id": "3190dc1f"
      },
      "outputs": [],
      "source": [
        "#Create empty  list"
      ]
    },
    {
      "cell_type": "code",
      "execution_count": null,
      "id": "3e834648",
      "metadata": {
        "id": "3e834648"
      },
      "outputs": [],
      "source": [
        "lst=[] #this is empty list"
      ]
    },
    {
      "cell_type": "code",
      "execution_count": null,
      "id": "61a727ef",
      "metadata": {
        "id": "61a727ef",
        "outputId": "7431e8c4-ec03-4868-8aa4-2b3eb0562c48"
      },
      "outputs": [
        {
          "data": {
            "text/plain": [
              "[]"
            ]
          },
          "execution_count": 20,
          "metadata": {},
          "output_type": "execute_result"
        }
      ],
      "source": [
        "lst"
      ]
    },
    {
      "cell_type": "code",
      "execution_count": null,
      "id": "c9fd8cbc",
      "metadata": {
        "id": "c9fd8cbc",
        "outputId": "88b03389-7eae-47cf-a7bb-6a0e06bb9115"
      },
      "outputs": [
        {
          "data": {
            "text/plain": [
              "list"
            ]
          },
          "execution_count": 21,
          "metadata": {},
          "output_type": "execute_result"
        }
      ],
      "source": [
        "type(lst) #verify type"
      ]
    },
    {
      "cell_type": "code",
      "execution_count": null,
      "id": "c5d36ed9",
      "metadata": {
        "id": "c5d36ed9"
      },
      "outputs": [],
      "source": [
        "# to create proper list\n",
        "#we have to store our data in list"
      ]
    },
    {
      "cell_type": "code",
      "execution_count": null,
      "id": "66af9183",
      "metadata": {
        "id": "66af9183"
      },
      "outputs": [],
      "source": [
        "lst=['a','b','c','d']"
      ]
    },
    {
      "cell_type": "code",
      "execution_count": null,
      "id": "f4e20203",
      "metadata": {
        "id": "f4e20203",
        "outputId": "b983bc24-a6a2-407d-ae1c-d97009045bbe"
      },
      "outputs": [
        {
          "data": {
            "text/plain": [
              "['a', 'b', 'c', 'd']"
            ]
          },
          "execution_count": 24,
          "metadata": {},
          "output_type": "execute_result"
        }
      ],
      "source": [
        "lst"
      ]
    },
    {
      "cell_type": "code",
      "execution_count": null,
      "id": "a6a09c35",
      "metadata": {
        "id": "a6a09c35"
      },
      "outputs": [],
      "source": [
        "#How to copy into their list"
      ]
    },
    {
      "cell_type": "code",
      "execution_count": null,
      "id": "7d3ce149",
      "metadata": {
        "id": "7d3ce149"
      },
      "outputs": [],
      "source": [
        "l2=list(lst) #this is copy of lst list"
      ]
    },
    {
      "cell_type": "code",
      "execution_count": null,
      "id": "c8bb3a1e",
      "metadata": {
        "id": "c8bb3a1e",
        "outputId": "ce7e8cdf-4e8a-402f-c538-ace5c6485c6e"
      },
      "outputs": [
        {
          "data": {
            "text/plain": [
              "['a', 'b', 'c', 'd']"
            ]
          },
          "execution_count": 27,
          "metadata": {},
          "output_type": "execute_result"
        }
      ],
      "source": [
        "l2"
      ]
    },
    {
      "cell_type": "code",
      "execution_count": null,
      "id": "22f60166",
      "metadata": {
        "id": "22f60166"
      },
      "outputs": [],
      "source": [
        "#Different way to copy a list\n",
        "#Copy() Method"
      ]
    },
    {
      "cell_type": "code",
      "execution_count": null,
      "id": "36e61f55",
      "metadata": {
        "id": "36e61f55"
      },
      "outputs": [],
      "source": [
        "marks=[30,40,50,60]"
      ]
    },
    {
      "cell_type": "code",
      "execution_count": null,
      "id": "82e44359",
      "metadata": {
        "id": "82e44359"
      },
      "outputs": [],
      "source": [
        "copy_marks=marks.copy()"
      ]
    },
    {
      "cell_type": "code",
      "execution_count": null,
      "id": "3456d27a",
      "metadata": {
        "id": "3456d27a",
        "outputId": "c35db92e-2db1-4bbf-c8af-db30908f0b46"
      },
      "outputs": [
        {
          "data": {
            "text/plain": [
              "[30, 40, 50, 60]"
            ]
          },
          "execution_count": 31,
          "metadata": {},
          "output_type": "execute_result"
        }
      ],
      "source": [
        "copy_marks"
      ]
    },
    {
      "cell_type": "code",
      "execution_count": null,
      "id": "d2db1449",
      "metadata": {
        "id": "d2db1449"
      },
      "outputs": [],
      "source": [
        "#Another way to make list"
      ]
    },
    {
      "cell_type": "code",
      "execution_count": null,
      "id": "881941dc",
      "metadata": {
        "id": "881941dc",
        "outputId": "9aaa0e8e-6425-424a-c422-f811bb5cb2d7"
      },
      "outputs": [
        {
          "data": {
            "text/plain": [
              "['s', 'a', 'u', 'r', 'a', 'v']"
            ]
          },
          "execution_count": 33,
          "metadata": {},
          "output_type": "execute_result"
        }
      ],
      "source": [
        "list('saurav') #this method can separate all the elemnts."
      ]
    },
    {
      "cell_type": "code",
      "execution_count": null,
      "id": "592faa96",
      "metadata": {
        "id": "592faa96"
      },
      "outputs": [],
      "source": [
        "#Lets Try with integer"
      ]
    },
    {
      "cell_type": "code",
      "execution_count": null,
      "id": "e370470f",
      "metadata": {
        "id": "e370470f",
        "outputId": "c3eebdb4-3072-4c85-a1ef-3ba9ceb0223e"
      },
      "outputs": [
        {
          "ename": "TypeError",
          "evalue": "'int' object is not iterable",
          "output_type": "error",
          "traceback": [
            "\u001b[0;31m---------------------------------------------------------------------------\u001b[0m",
            "\u001b[0;31mTypeError\u001b[0m                                 Traceback (most recent call last)",
            "Cell \u001b[0;32mIn[35], line 1\u001b[0m\n\u001b[0;32m----> 1\u001b[0m \u001b[38;5;28;43mlist\u001b[39;49m\u001b[43m(\u001b[49m\u001b[38;5;241;43m8885\u001b[39;49m\u001b[43m)\u001b[49m \u001b[38;5;66;03m#integer object is not iterable\u001b[39;00m\n",
            "\u001b[0;31mTypeError\u001b[0m: 'int' object is not iterable"
          ]
        }
      ],
      "source": [
        "list(8885) #integer object is not iterable"
      ]
    },
    {
      "cell_type": "code",
      "execution_count": null,
      "id": "3c650f79",
      "metadata": {
        "id": "3c650f79"
      },
      "outputs": [],
      "source": [
        "#Lets Try append mends\n",
        "#create an empty list and append data by usind appen method."
      ]
    },
    {
      "cell_type": "code",
      "execution_count": null,
      "id": "b72a3022",
      "metadata": {
        "id": "b72a3022"
      },
      "outputs": [],
      "source": [
        "l1=[] #this is empty list"
      ]
    },
    {
      "cell_type": "code",
      "execution_count": null,
      "id": "a2038b32",
      "metadata": {
        "id": "a2038b32"
      },
      "outputs": [],
      "source": [
        "l1.append('saurav') #we add saurvan to thed empty list we made"
      ]
    },
    {
      "cell_type": "code",
      "execution_count": null,
      "id": "866cb838",
      "metadata": {
        "id": "866cb838",
        "outputId": "b57f2e0d-e7c0-4cd0-fbc9-0a1b4ca22c6b"
      },
      "outputs": [
        {
          "data": {
            "text/plain": [
              "['saurav']"
            ]
          },
          "execution_count": 39,
          "metadata": {},
          "output_type": "execute_result"
        }
      ],
      "source": [
        "l1"
      ]
    },
    {
      "cell_type": "code",
      "execution_count": null,
      "id": "4a84e467",
      "metadata": {
        "id": "4a84e467"
      },
      "outputs": [],
      "source": [
        "#add one more thing\n",
        "l1.append('vicky')"
      ]
    },
    {
      "cell_type": "code",
      "execution_count": null,
      "id": "4a55e25e",
      "metadata": {
        "id": "4a55e25e",
        "outputId": "7c69bc06-67aa-4642-b5bb-276df42be032"
      },
      "outputs": [
        {
          "data": {
            "text/plain": [
              "['saurav', 'vicky']"
            ]
          },
          "execution_count": 41,
          "metadata": {},
          "output_type": "execute_result"
        }
      ],
      "source": [
        "l1 #check if list got updated"
      ]
    },
    {
      "cell_type": "code",
      "execution_count": null,
      "id": "1abf4ddc",
      "metadata": {
        "id": "1abf4ddc"
      },
      "outputs": [],
      "source": [
        "#add two item\n",
        "l1.append('yashu')\n",
        "l1.append('shivangi')"
      ]
    },
    {
      "cell_type": "code",
      "execution_count": null,
      "id": "dc799445",
      "metadata": {
        "id": "dc799445",
        "outputId": "e16936a6-38fa-4acc-e9ef-43bccb01cea5"
      },
      "outputs": [
        {
          "data": {
            "text/plain": [
              "['saurav', 'vicky', 'yashu', 'shivangi']"
            ]
          },
          "execution_count": 43,
          "metadata": {},
          "output_type": "execute_result"
        }
      ],
      "source": [
        "l1"
      ]
    },
    {
      "cell_type": "code",
      "execution_count": null,
      "id": "0c9e4252",
      "metadata": {
        "id": "0c9e4252"
      },
      "outputs": [],
      "source": [
        "#index and insert-Two arguments can be paced in insert method\n",
        "#insert(index,insert) meaning of index is where we have to add objects and  meaning of insert is what object we have to store.\n",
        "#see with  example\n",
        "#lets make new list"
      ]
    },
    {
      "cell_type": "code",
      "execution_count": null,
      "id": "b57c1179",
      "metadata": {
        "id": "b57c1179"
      },
      "outputs": [],
      "source": [
        "l1=['saurav','vicky','minakshi','Donald Trump','Imran khan']"
      ]
    },
    {
      "cell_type": "code",
      "execution_count": null,
      "id": "26996428",
      "metadata": {
        "id": "26996428",
        "outputId": "3ac04694-493d-4e5e-cc45-355ada809849"
      },
      "outputs": [
        {
          "data": {
            "text/plain": [
              "['saurav', 'vicky', 'minakshi', 'Donald Trump', 'Imran khan']"
            ]
          },
          "execution_count": 46,
          "metadata": {},
          "output_type": "execute_result"
        }
      ],
      "source": [
        "l1"
      ]
    },
    {
      "cell_type": "code",
      "execution_count": null,
      "id": "daf75bc6",
      "metadata": {
        "id": "daf75bc6"
      },
      "outputs": [],
      "source": [
        "#now we inserting a data in the place of imran khan\n",
        "#lets see how we can add"
      ]
    },
    {
      "cell_type": "code",
      "execution_count": null,
      "id": "3af5c569",
      "metadata": {
        "id": "3af5c569"
      },
      "outputs": [],
      "source": [
        "l1.insert(4,'putin') # as list index works like 0,1,2,3,4 0- Being saurav and 4- being putin"
      ]
    },
    {
      "cell_type": "code",
      "execution_count": null,
      "id": "e8573d73",
      "metadata": {
        "id": "e8573d73",
        "outputId": "73b78f1b-ba45-4730-e087-042e4c87cc08"
      },
      "outputs": [
        {
          "data": {
            "text/plain": [
              "['saurav', 'vicky', 'minakshi', 'Donald Trump', 'putin', 'Imran khan']"
            ]
          },
          "execution_count": 49,
          "metadata": {},
          "output_type": "execute_result"
        }
      ],
      "source": [
        "l1 #list updated with name replaced in desired position"
      ]
    },
    {
      "cell_type": "code",
      "execution_count": null,
      "id": "cbbdf815",
      "metadata": {
        "id": "cbbdf815"
      },
      "outputs": [],
      "source": [
        "#one more example with numbers"
      ]
    },
    {
      "cell_type": "code",
      "execution_count": null,
      "id": "ba50ac6f",
      "metadata": {
        "id": "ba50ac6f"
      },
      "outputs": [],
      "source": [
        "l1=[11,22,33,44,55,66]"
      ]
    },
    {
      "cell_type": "code",
      "execution_count": null,
      "id": "2933d087",
      "metadata": {
        "id": "2933d087"
      },
      "outputs": [],
      "source": [
        "l1.insert(2,88)"
      ]
    },
    {
      "cell_type": "code",
      "execution_count": null,
      "id": "4a1fc83f",
      "metadata": {
        "id": "4a1fc83f",
        "outputId": "9560271e-9d80-4036-d895-4cbd7435d293"
      },
      "outputs": [
        {
          "data": {
            "text/plain": [
              "[11, 22, 88, 33, 44, 55, 66]"
            ]
          },
          "execution_count": 53,
          "metadata": {},
          "output_type": "execute_result"
        }
      ],
      "source": [
        "l1"
      ]
    },
    {
      "cell_type": "code",
      "execution_count": null,
      "id": "c981cd5e",
      "metadata": {
        "id": "c981cd5e"
      },
      "outputs": [],
      "source": [
        "#list Extended Method\n",
        "#How to check total element in the list.\n",
        "#lets create a list"
      ]
    },
    {
      "cell_type": "code",
      "execution_count": null,
      "id": "8cae174d",
      "metadata": {
        "id": "8cae174d"
      },
      "outputs": [],
      "source": [
        "l1=[44,55,66,99,77,88]"
      ]
    },
    {
      "cell_type": "code",
      "execution_count": null,
      "id": "c18c92a6",
      "metadata": {
        "id": "c18c92a6",
        "outputId": "b251f455-210b-461e-e2cd-89860d33b45d"
      },
      "outputs": [
        {
          "data": {
            "text/plain": [
              "6"
            ]
          },
          "execution_count": 56,
          "metadata": {},
          "output_type": "execute_result"
        }
      ],
      "source": [
        "len(l1)"
      ]
    },
    {
      "cell_type": "code",
      "execution_count": null,
      "id": "cebdfa99",
      "metadata": {
        "id": "cebdfa99"
      },
      "outputs": [],
      "source": [
        "#Indexing and Slicing. are always in square brackets[]\n",
        "#creating a list"
      ]
    },
    {
      "cell_type": "code",
      "execution_count": null,
      "id": "67bbd8a9",
      "metadata": {
        "id": "67bbd8a9"
      },
      "outputs": [],
      "source": [
        "l1=['saurav','gaurav','lovely','advit']"
      ]
    },
    {
      "cell_type": "code",
      "execution_count": null,
      "id": "6a547a97",
      "metadata": {
        "id": "6a547a97",
        "outputId": "74b50a94-1a0e-45b0-c71a-9bd5b4e69126"
      },
      "outputs": [
        {
          "data": {
            "text/plain": [
              "'saurav'"
            ]
          },
          "execution_count": 59,
          "metadata": {},
          "output_type": "execute_result"
        }
      ],
      "source": [
        "l1[0]"
      ]
    },
    {
      "cell_type": "code",
      "execution_count": null,
      "id": "123ac6bb",
      "metadata": {
        "id": "123ac6bb",
        "outputId": "48615c8d-d4fc-4bd5-8c13-9502bb25730c"
      },
      "outputs": [
        {
          "data": {
            "text/plain": [
              "'gaurav'"
            ]
          },
          "execution_count": 60,
          "metadata": {},
          "output_type": "execute_result"
        }
      ],
      "source": [
        "l1[1]"
      ]
    },
    {
      "cell_type": "code",
      "execution_count": null,
      "id": "1db15d47",
      "metadata": {
        "id": "1db15d47",
        "outputId": "08f8d0a4-0583-4a5c-c7ee-cc8d68f65cd8"
      },
      "outputs": [
        {
          "data": {
            "text/plain": [
              "'lovely'"
            ]
          },
          "execution_count": 61,
          "metadata": {},
          "output_type": "execute_result"
        }
      ],
      "source": [
        "l1[2]"
      ]
    },
    {
      "cell_type": "code",
      "execution_count": null,
      "id": "29fdaeec",
      "metadata": {
        "id": "29fdaeec",
        "outputId": "e05c303a-fd05-4bc5-e836-4d5095fdedb1"
      },
      "outputs": [
        {
          "data": {
            "text/plain": [
              "'advit'"
            ]
          },
          "execution_count": 62,
          "metadata": {},
          "output_type": "execute_result"
        }
      ],
      "source": [
        "l1[3]"
      ]
    },
    {
      "cell_type": "code",
      "execution_count": null,
      "id": "ddf49864",
      "metadata": {
        "id": "ddf49864"
      },
      "outputs": [],
      "source": [
        "#How to replace object in list\n",
        "#we have to replace advit by babu"
      ]
    },
    {
      "cell_type": "code",
      "execution_count": null,
      "id": "cc3bb803",
      "metadata": {
        "id": "cc3bb803"
      },
      "outputs": [],
      "source": [
        "l1[3]='Babu'"
      ]
    },
    {
      "cell_type": "code",
      "execution_count": null,
      "id": "d275d48a",
      "metadata": {
        "id": "d275d48a",
        "outputId": "ff6b1bcd-49a7-4c98-ed54-83e9f50b63c5"
      },
      "outputs": [
        {
          "data": {
            "text/plain": [
              "['saurav', 'gaurav', 'lovely', 'Babu']"
            ]
          },
          "execution_count": 65,
          "metadata": {},
          "output_type": "execute_result"
        }
      ],
      "source": [
        "l1"
      ]
    },
    {
      "cell_type": "code",
      "execution_count": null,
      "id": "543478ff",
      "metadata": {
        "id": "543478ff"
      },
      "outputs": [],
      "source": [
        "#Replace with Integer\n",
        "#lets create a list with numbers"
      ]
    },
    {
      "cell_type": "code",
      "execution_count": null,
      "id": "08064661",
      "metadata": {
        "id": "08064661"
      },
      "outputs": [],
      "source": [
        "l1=[11,22,33,66,44,88,99,44]"
      ]
    },
    {
      "cell_type": "code",
      "execution_count": null,
      "id": "74b6c811",
      "metadata": {
        "id": "74b6c811"
      },
      "outputs": [],
      "source": [
        "#in l1 66 replace with 1607"
      ]
    },
    {
      "cell_type": "code",
      "execution_count": null,
      "id": "5a4f2dc7",
      "metadata": {
        "id": "5a4f2dc7"
      },
      "outputs": [],
      "source": [
        "l1[3]=1607 #we replace 66 with 1607"
      ]
    },
    {
      "cell_type": "code",
      "execution_count": null,
      "id": "8467a325",
      "metadata": {
        "id": "8467a325",
        "outputId": "11a9641c-975f-407f-a0c5-7211b878a615"
      },
      "outputs": [
        {
          "data": {
            "text/plain": [
              "[11, 22, 33, 1607, 44, 88, 99, 44]"
            ]
          },
          "execution_count": 70,
          "metadata": {},
          "output_type": "execute_result"
        }
      ],
      "source": [
        "l1"
      ]
    },
    {
      "cell_type": "code",
      "execution_count": null,
      "id": "e7147adf",
      "metadata": {
        "id": "e7147adf"
      },
      "outputs": [],
      "source": [
        "#Gran index 1 from l1 and exerything from past\n",
        "#lets see"
      ]
    },
    {
      "cell_type": "code",
      "execution_count": null,
      "id": "12b31b91",
      "metadata": {
        "id": "12b31b91",
        "outputId": "ad44ae21-9d5b-4ad9-dab2-ac49cf8f146b"
      },
      "outputs": [
        {
          "data": {
            "text/plain": [
              "[11, 22, 33, 1607, 44, 88, 99, 44]"
            ]
          },
          "execution_count": 72,
          "metadata": {},
          "output_type": "execute_result"
        }
      ],
      "source": [
        "l1"
      ]
    },
    {
      "cell_type": "code",
      "execution_count": null,
      "id": "f7bf04e4",
      "metadata": {
        "id": "f7bf04e4",
        "outputId": "af53cb27-9eca-423a-8a7d-72dc0037f889"
      },
      "outputs": [
        {
          "data": {
            "text/plain": [
              "[22, 33, 1607, 44, 88, 99, 44]"
            ]
          },
          "execution_count": 73,
          "metadata": {},
          "output_type": "execute_result"
        }
      ],
      "source": [
        "l1[1:]"
      ]
    },
    {
      "cell_type": "code",
      "execution_count": null,
      "id": "4c448043",
      "metadata": {
        "id": "4c448043",
        "outputId": "bb893cd5-fdf7-4771-a036-c552adc67352"
      },
      "outputs": [
        {
          "data": {
            "text/plain": [
              "[33, 1607, 44, 88, 99, 44]"
            ]
          },
          "execution_count": 74,
          "metadata": {},
          "output_type": "execute_result"
        }
      ],
      "source": [
        "l1[2:]"
      ]
    },
    {
      "cell_type": "code",
      "execution_count": null,
      "id": "668b9479",
      "metadata": {
        "id": "668b9479"
      },
      "outputs": [],
      "source": [
        "#see and understabd"
      ]
    },
    {
      "cell_type": "code",
      "execution_count": null,
      "id": "d111d20d",
      "metadata": {
        "id": "d111d20d",
        "outputId": "66c6beab-99ec-4d16-89a0-f12b6416df3e"
      },
      "outputs": [
        {
          "data": {
            "text/plain": [
              "[11, 22, 33, 1607, 44, 88, 99, 44]"
            ]
          },
          "execution_count": 76,
          "metadata": {},
          "output_type": "execute_result"
        }
      ],
      "source": [
        "l1"
      ]
    },
    {
      "cell_type": "code",
      "execution_count": null,
      "id": "bdfc39d2",
      "metadata": {
        "id": "bdfc39d2",
        "outputId": "77a93286-0240-447c-c1d2-ee382fbf6a4f"
      },
      "outputs": [
        {
          "data": {
            "text/plain": [
              "[22, 33, 1607, 44, 88, 99]"
            ]
          },
          "execution_count": 77,
          "metadata": {},
          "output_type": "execute_result"
        }
      ],
      "source": [
        "l1[1:7] #what isdone here."
      ]
    },
    {
      "cell_type": "code",
      "execution_count": null,
      "id": "46bf00b8",
      "metadata": {
        "id": "46bf00b8",
        "outputId": "9c5a56d0-be51-493e-d6d2-2195d17ede33"
      },
      "outputs": [
        {
          "data": {
            "text/plain": [
              "[11, 22, 33]"
            ]
          },
          "execution_count": 78,
          "metadata": {},
          "output_type": "execute_result"
        }
      ],
      "source": [
        "l1[:3] #0 1 2 index elements will be printed   if we leave empty it means (jitna pehle se shuru hota hain / absolute start):3   3:(jitna end tak jaata hain/absolute end)"
      ]
    },
    {
      "cell_type": "code",
      "execution_count": null,
      "id": "ea7ac5e1",
      "metadata": {
        "id": "ea7ac5e1"
      },
      "outputs": [],
      "source": [
        "#we also use \"+\" sign to concatinate list, just like we did for string"
      ]
    },
    {
      "cell_type": "code",
      "execution_count": null,
      "id": "c9b79da0",
      "metadata": {
        "id": "c9b79da0",
        "outputId": "04a3ceba-1a8a-476a-9668-fb424e034c07"
      },
      "outputs": [
        {
          "data": {
            "text/plain": [
              "[11, 22, 33, 1607, 44, 88, 99, 44]"
            ]
          },
          "execution_count": 80,
          "metadata": {},
          "output_type": "execute_result"
        }
      ],
      "source": [
        "l1"
      ]
    },
    {
      "cell_type": "code",
      "execution_count": null,
      "id": "1fe2f3d7",
      "metadata": {
        "id": "1fe2f3d7",
        "outputId": "a380ccf8-c8de-4a18-88cb-b3adf244c6ac"
      },
      "outputs": [
        {
          "data": {
            "text/plain": [
              "[11, 22, 33, 1607, 44, 88, 99, 44]"
            ]
          },
          "execution_count": 81,
          "metadata": {},
          "output_type": "execute_result"
        }
      ],
      "source": [
        "l1"
      ]
    },
    {
      "cell_type": "code",
      "execution_count": null,
      "id": "23e8d403",
      "metadata": {
        "id": "23e8d403",
        "outputId": "591decf7-317f-46ca-dfd6-bd6a273c12b8"
      },
      "outputs": [
        {
          "data": {
            "text/plain": [
              "[11, 22, 33, 1607, 44, 88, 99, 44, 6622]"
            ]
          },
          "execution_count": 82,
          "metadata": {},
          "output_type": "execute_result"
        }
      ],
      "source": [
        "l1+[6622] #this is temporary"
      ]
    },
    {
      "cell_type": "code",
      "execution_count": null,
      "id": "3ac823a9",
      "metadata": {
        "id": "3ac823a9"
      },
      "outputs": [],
      "source": [
        "#this concatinate method does not change permanently.\n",
        "#in case if you want to concatinate permanently you use different method\n",
        "#just see"
      ]
    },
    {
      "cell_type": "code",
      "execution_count": null,
      "id": "843a3b51",
      "metadata": {
        "id": "843a3b51"
      },
      "outputs": [],
      "source": [
        "l1=l1+[5566] #this is permanent"
      ]
    },
    {
      "cell_type": "code",
      "execution_count": null,
      "id": "7987ffa8",
      "metadata": {
        "id": "7987ffa8",
        "outputId": "3acc0d17-58d6-4818-e49d-c96d81695a6d"
      },
      "outputs": [
        {
          "data": {
            "text/plain": [
              "[11, 22, 33, 1607, 44, 88, 99, 44, 5566]"
            ]
          },
          "execution_count": 85,
          "metadata": {},
          "output_type": "execute_result"
        }
      ],
      "source": [
        "l1"
      ]
    },
    {
      "cell_type": "code",
      "execution_count": null,
      "id": "3980d80a",
      "metadata": {
        "id": "3980d80a"
      },
      "outputs": [],
      "source": [
        "#if you want to duplicate\n",
        "#you have to use duplicate method\n",
        "#just see"
      ]
    },
    {
      "cell_type": "code",
      "execution_count": null,
      "id": "17d28085",
      "metadata": {
        "id": "17d28085",
        "outputId": "0d9644ce-503d-402a-f13b-e48fa9a7f457"
      },
      "outputs": [
        {
          "data": {
            "text/plain": [
              "[11, 22, 33, 1607, 44, 88, 99, 44, 5566]"
            ]
          },
          "execution_count": 87,
          "metadata": {},
          "output_type": "execute_result"
        }
      ],
      "source": [
        "l1"
      ]
    },
    {
      "cell_type": "code",
      "execution_count": null,
      "id": "05327f39",
      "metadata": {
        "id": "05327f39",
        "outputId": "69cbcf31-eebd-4d74-c974-cfb36a632187"
      },
      "outputs": [
        {
          "data": {
            "text/plain": [
              "[11,\n",
              " 22,\n",
              " 33,\n",
              " 1607,\n",
              " 44,\n",
              " 88,\n",
              " 99,\n",
              " 44,\n",
              " 5566,\n",
              " 11,\n",
              " 22,\n",
              " 33,\n",
              " 1607,\n",
              " 44,\n",
              " 88,\n",
              " 99,\n",
              " 44,\n",
              " 5566,\n",
              " 11,\n",
              " 22,\n",
              " 33,\n",
              " 1607,\n",
              " 44,\n",
              " 88,\n",
              " 99,\n",
              " 44,\n",
              " 5566,\n",
              " 11,\n",
              " 22,\n",
              " 33,\n",
              " 1607,\n",
              " 44,\n",
              " 88,\n",
              " 99,\n",
              " 44,\n",
              " 5566]"
            ]
          },
          "execution_count": 88,
          "metadata": {},
          "output_type": "execute_result"
        }
      ],
      "source": [
        "l1 * 4 #like that"
      ]
    },
    {
      "cell_type": "code",
      "execution_count": null,
      "id": "b11efd22",
      "metadata": {
        "id": "b11efd22"
      },
      "outputs": [],
      "source": [
        "# if you want to decorate your code\n",
        "#then you will do someting to decorate\n",
        "#lets see\n",
        "#making a list and decorate"
      ]
    },
    {
      "cell_type": "code",
      "execution_count": null,
      "id": "a8f7a4fe",
      "metadata": {
        "id": "a8f7a4fe",
        "outputId": "795f130f-3cf0-4f5e-c4fa-0eb97cbc1173"
      },
      "outputs": [
        {
          "name": "stdout",
          "output_type": "stream",
          "text": [
            "====================================================================================================\n",
            "[11, 22, 33, 1607, 44, 88, 99, 44, 5566]\n",
            "====================================================================================================\n"
          ]
        }
      ],
      "source": [
        "print('=' * 100)\n",
        "\n",
        "print(l1)\n",
        "\n",
        "print('=' * 100)   #like that"
      ]
    },
    {
      "cell_type": "code",
      "source": [],
      "metadata": {
        "id": "GUQniDdyhsKC"
      },
      "id": "GUQniDdyhsKC",
      "execution_count": null,
      "outputs": []
    },
    {
      "cell_type": "code",
      "execution_count": null,
      "id": "13977bd6",
      "metadata": {
        "id": "13977bd6"
      },
      "outputs": [],
      "source": [
        "#if you double you anything by using * method they dont double for permanent"
      ]
    },
    {
      "cell_type": "code",
      "execution_count": null,
      "id": "58e85572",
      "metadata": {
        "id": "58e85572"
      },
      "outputs": [],
      "source": [
        "#Advanced List\n",
        "#count method\n",
        "#what is count method ? count methos is which method the csn show how many time availability of duplicate things.\n",
        "#so lets see how we can you count method.\n",
        "#create list with the name of marks"
      ]
    },
    {
      "cell_type": "code",
      "execution_count": null,
      "id": "3f6d8009",
      "metadata": {
        "id": "3f6d8009"
      },
      "outputs": [],
      "source": [
        "marks=[51,56,89,78,89,45,56,12,12,32,45,32,65,45,89,78,45,56,23,12,4,5,23,23,56,] #this is list of marks"
      ]
    },
    {
      "cell_type": "code",
      "execution_count": null,
      "id": "c946c53a",
      "metadata": {
        "id": "c946c53a"
      },
      "outputs": [],
      "source": [
        "#we have to find 23 , is how much time is marks list."
      ]
    },
    {
      "cell_type": "code",
      "execution_count": null,
      "id": "368db823",
      "metadata": {
        "id": "368db823",
        "outputId": "9aade644-5e2d-4e85-a684-2731c0294a2d"
      },
      "outputs": [
        {
          "data": {
            "text/plain": [
              "3"
            ]
          },
          "execution_count": 95,
          "metadata": {},
          "output_type": "execute_result"
        }
      ],
      "source": [
        "marks.count(23) #we will find how many times 23 occured"
      ]
    },
    {
      "cell_type": "code",
      "execution_count": null,
      "id": "37d2ccd5",
      "metadata": {
        "id": "37d2ccd5",
        "outputId": "cbc4fa02-6b26-4a66-a6ea-2a25a357c699"
      },
      "outputs": [
        {
          "data": {
            "text/plain": [
              "3"
            ]
          },
          "execution_count": 96,
          "metadata": {},
          "output_type": "execute_result"
        }
      ],
      "source": [
        "marks.count(89)"
      ]
    },
    {
      "cell_type": "code",
      "execution_count": null,
      "id": "b0201739",
      "metadata": {
        "id": "b0201739"
      },
      "outputs": [],
      "source": [
        "#this will show only first element index if there are duplication."
      ]
    },
    {
      "cell_type": "code",
      "execution_count": null,
      "id": "5aa2c22f",
      "metadata": {
        "id": "5aa2c22f"
      },
      "outputs": [],
      "source": [
        "#Extend Method.\n",
        "#manu time people confused with extend and append method. lets i can show you both method extend and append . and\n",
        "#what is the the diffrences\n",
        "#start with append method."
      ]
    },
    {
      "cell_type": "code",
      "execution_count": null,
      "id": "851de6f9",
      "metadata": {
        "id": "851de6f9"
      },
      "outputs": [],
      "source": [
        "lst=['munmun','lovely']"
      ]
    },
    {
      "cell_type": "code",
      "execution_count": null,
      "id": "931562d4",
      "metadata": {
        "id": "931562d4",
        "outputId": "2cd1ce6a-bae3-4f54-cbc5-7e1a548c5437"
      },
      "outputs": [
        {
          "data": {
            "text/plain": [
              "['munmun', 'lovely']"
            ]
          },
          "execution_count": 100,
          "metadata": {},
          "output_type": "execute_result"
        }
      ],
      "source": [
        "lst"
      ]
    },
    {
      "cell_type": "code",
      "execution_count": null,
      "id": "85b2d679",
      "metadata": {
        "id": "85b2d679"
      },
      "outputs": [],
      "source": [
        "lst.append(['amisha','khushi'])"
      ]
    },
    {
      "cell_type": "code",
      "execution_count": null,
      "id": "44cc371b",
      "metadata": {
        "id": "44cc371b",
        "outputId": "dd46941e-50a8-48ee-a145-a1aafd9302b6"
      },
      "outputs": [
        {
          "data": {
            "text/plain": [
              "['munmun', 'lovely', ['amisha', 'khushi']]"
            ]
          },
          "execution_count": 102,
          "metadata": {},
          "output_type": "execute_result"
        }
      ],
      "source": [
        "lst"
      ]
    },
    {
      "cell_type": "code",
      "execution_count": null,
      "id": "2bbf5697",
      "metadata": {
        "id": "2bbf5697"
      },
      "outputs": [],
      "source": [
        "#thats not look like right .\n",
        "#lets check with extend method"
      ]
    },
    {
      "cell_type": "code",
      "execution_count": null,
      "id": "829a6232",
      "metadata": {
        "id": "829a6232"
      },
      "outputs": [],
      "source": [
        "lst1=['munmun','lovely']"
      ]
    },
    {
      "cell_type": "code",
      "execution_count": null,
      "id": "257b115e",
      "metadata": {
        "id": "257b115e",
        "outputId": "e7e27db6-4d1b-42f4-f870-f254cbfa7726"
      },
      "outputs": [
        {
          "data": {
            "text/plain": [
              "['munmun', 'lovely']"
            ]
          },
          "execution_count": 105,
          "metadata": {},
          "output_type": "execute_result"
        }
      ],
      "source": [
        "lst1"
      ]
    },
    {
      "cell_type": "code",
      "execution_count": null,
      "id": "f67094e0",
      "metadata": {
        "id": "f67094e0"
      },
      "outputs": [],
      "source": [
        "lst1.extend(['amisha','khusi']) #this is extend method to add multiple elements to the list"
      ]
    },
    {
      "cell_type": "code",
      "execution_count": null,
      "id": "180340d5",
      "metadata": {
        "id": "180340d5",
        "outputId": "a3f55002-23b9-4cb1-a88f-60a4c9fcb08f"
      },
      "outputs": [
        {
          "data": {
            "text/plain": [
              "['munmun', 'lovely', 'amisha', 'khusi']"
            ]
          },
          "execution_count": 107,
          "metadata": {},
          "output_type": "execute_result"
        }
      ],
      "source": [
        "lst1"
      ]
    },
    {
      "cell_type": "code",
      "execution_count": null,
      "id": "799eeb18",
      "metadata": {
        "id": "799eeb18"
      },
      "outputs": [],
      "source": [
        "#thats look cool\n",
        "#this is the diffrences.\n",
        "#similarly you can add integer data as well concepts is same for any type data."
      ]
    },
    {
      "cell_type": "code",
      "execution_count": null,
      "id": "83496f0b",
      "metadata": {
        "id": "83496f0b"
      },
      "outputs": [],
      "source": [
        "#Pop method\n",
        "#what is pop method ? pop mehod help for delete last index elemnt from any list.\n",
        "#lets see with example."
      ]
    },
    {
      "cell_type": "code",
      "execution_count": null,
      "id": "0ffbf318",
      "metadata": {
        "id": "0ffbf318"
      },
      "outputs": [],
      "source": [
        "lst1=['Raj','Saurav','Garima','Riya','Gaurav','Ratnesh','Shailesh']"
      ]
    },
    {
      "cell_type": "code",
      "execution_count": null,
      "id": "340454f9",
      "metadata": {
        "id": "340454f9",
        "outputId": "e0a8b044-921c-41e4-9fb2-ee4880d71b0c"
      },
      "outputs": [
        {
          "data": {
            "text/plain": [
              "['Raj', 'Saurav', 'Garima', 'Riya', 'Gaurav', 'Ratnesh', 'Shailesh']"
            ]
          },
          "execution_count": 111,
          "metadata": {},
          "output_type": "execute_result"
        }
      ],
      "source": [
        "lst1"
      ]
    },
    {
      "cell_type": "code",
      "execution_count": null,
      "id": "8cd0b79c",
      "metadata": {
        "id": "8cd0b79c"
      },
      "outputs": [],
      "source": [
        "#what we do if we have to delete \"Shailesh\" from our list."
      ]
    },
    {
      "cell_type": "code",
      "execution_count": null,
      "id": "0b873a77",
      "metadata": {
        "id": "0b873a77"
      },
      "outputs": [],
      "source": [
        "pop_shailesh=lst1.pop() #this will delete Shailesh from our list by removing last element"
      ]
    },
    {
      "cell_type": "code",
      "execution_count": null,
      "id": "328c58dd",
      "metadata": {
        "id": "328c58dd",
        "outputId": "d84fb06b-e44e-4c5e-92cf-c1674e1cd9c2"
      },
      "outputs": [
        {
          "data": {
            "text/plain": [
              "'Shailesh'"
            ]
          },
          "execution_count": 114,
          "metadata": {},
          "output_type": "execute_result"
        }
      ],
      "source": [
        "pop_shailesh"
      ]
    },
    {
      "cell_type": "code",
      "execution_count": null,
      "id": "95e167d6",
      "metadata": {
        "id": "95e167d6",
        "outputId": "f0dd369f-af61-4365-8a0f-70ba1ea4fd90"
      },
      "outputs": [
        {
          "data": {
            "text/plain": [
              "['Raj', 'Saurav', 'Garima', 'Riya', 'Gaurav', 'Ratnesh']"
            ]
          },
          "execution_count": 115,
          "metadata": {},
          "output_type": "execute_result"
        }
      ],
      "source": [
        "lst1"
      ]
    },
    {
      "cell_type": "code",
      "execution_count": null,
      "id": "d4979ba4",
      "metadata": {
        "id": "d4979ba4"
      },
      "outputs": [],
      "source": [
        "#Delete based on index positon\n",
        "#lets check"
      ]
    },
    {
      "cell_type": "code",
      "execution_count": null,
      "id": "cb0bbc3b",
      "metadata": {
        "id": "cb0bbc3b",
        "outputId": "9b174358-0284-43eb-f452-2a7ae6203a5e"
      },
      "outputs": [
        {
          "data": {
            "text/plain": [
              "['Raj', 'Saurav', 'Garima', 'Riya', 'Gaurav', 'Ratnesh']"
            ]
          },
          "execution_count": 117,
          "metadata": {},
          "output_type": "execute_result"
        }
      ],
      "source": [
        "lst1"
      ]
    },
    {
      "cell_type": "code",
      "execution_count": null,
      "id": "ac6fc45a",
      "metadata": {
        "id": "ac6fc45a"
      },
      "outputs": [],
      "source": [
        "#we have to delete \"Garima\" From our list"
      ]
    },
    {
      "cell_type": "code",
      "execution_count": null,
      "id": "1dc4fac3",
      "metadata": {
        "id": "1dc4fac3"
      },
      "outputs": [],
      "source": [
        "pop_garima=lst1.pop(2) #this will delete Garima from our list with index position 2"
      ]
    },
    {
      "cell_type": "code",
      "execution_count": null,
      "id": "bda8b090",
      "metadata": {
        "id": "bda8b090",
        "outputId": "7903ee92-b961-40d1-da99-3a7f6a9fdc43"
      },
      "outputs": [
        {
          "data": {
            "text/plain": [
              "'Garima'"
            ]
          },
          "execution_count": 120,
          "metadata": {},
          "output_type": "execute_result"
        }
      ],
      "source": [
        "pop_garima"
      ]
    },
    {
      "cell_type": "code",
      "execution_count": null,
      "id": "12474efb",
      "metadata": {
        "id": "12474efb",
        "outputId": "ab234eff-07e8-4e98-b5df-eb55b5997618"
      },
      "outputs": [
        {
          "data": {
            "text/plain": [
              "['Raj', 'Saurav', 'Riya', 'Gaurav', 'Ratnesh']"
            ]
          },
          "execution_count": 121,
          "metadata": {},
          "output_type": "execute_result"
        }
      ],
      "source": [
        "lst1"
      ]
    },
    {
      "cell_type": "code",
      "execution_count": null,
      "id": "fae00c5e",
      "metadata": {
        "id": "fae00c5e"
      },
      "outputs": [],
      "source": [
        "#Remove method\n",
        "#what is remove method ?  remove method helps for delete element from our list.\n",
        "#lets see with example"
      ]
    },
    {
      "cell_type": "code",
      "execution_count": null,
      "id": "c1afaa5d",
      "metadata": {
        "id": "c1afaa5d"
      },
      "outputs": [],
      "source": [
        "lst1=[12,33,66,55,44,77,88,99,11,22,33,44,55,66,77,88]"
      ]
    },
    {
      "cell_type": "code",
      "execution_count": null,
      "id": "904aaa37",
      "metadata": {
        "id": "904aaa37"
      },
      "outputs": [],
      "source": [
        "lst1.remove(55) #this will remove 55 from our list"
      ]
    },
    {
      "cell_type": "code",
      "execution_count": null,
      "id": "bfb1b51e",
      "metadata": {
        "id": "bfb1b51e",
        "outputId": "24bde08e-66f6-4c7c-d984-5031e80e08ba"
      },
      "outputs": [
        {
          "data": {
            "text/plain": [
              "[12, 33, 66, 44, 77, 88, 99, 11, 22, 33, 44, 55, 66, 77, 88]"
            ]
          },
          "execution_count": 125,
          "metadata": {},
          "output_type": "execute_result"
        }
      ],
      "source": [
        "lst1"
      ]
    },
    {
      "cell_type": "code",
      "execution_count": null,
      "id": "83ee314a",
      "metadata": {
        "id": "83ee314a"
      },
      "outputs": [],
      "source": [
        "#lets remember one thing remove method only work with integer.\n",
        "#and they can delete first element if there is any duplication"
      ]
    },
    {
      "cell_type": "code",
      "execution_count": null,
      "id": "41cf7100",
      "metadata": {
        "id": "41cf7100"
      },
      "outputs": [],
      "source": [
        "#Reverse Mehtod.\n",
        "#what is reverse method ? reverse method helps in to reverse show the all element in list.\n",
        "#lets see..\n"
      ]
    },
    {
      "cell_type": "code",
      "execution_count": null,
      "id": "c3b52409",
      "metadata": {
        "id": "c3b52409"
      },
      "outputs": [],
      "source": [
        "lst1=[11,22,33,44,55,66,44,55,66,77,88,99]"
      ]
    },
    {
      "cell_type": "code",
      "execution_count": null,
      "id": "8d9943cd",
      "metadata": {
        "id": "8d9943cd"
      },
      "outputs": [],
      "source": [
        "lst1.reverse() #this will reverse the list (i.e first element to last element and last element to first element)"
      ]
    },
    {
      "cell_type": "code",
      "execution_count": null,
      "id": "200abdbd",
      "metadata": {
        "id": "200abdbd",
        "outputId": "a23c4864-e245-4650-dcca-37ba211bf72e"
      },
      "outputs": [
        {
          "data": {
            "text/plain": [
              "[99, 88, 77, 66, 55, 44, 66, 55, 44, 33, 22, 11]"
            ]
          },
          "execution_count": 130,
          "metadata": {},
          "output_type": "execute_result"
        }
      ],
      "source": [
        "lst1"
      ]
    },
    {
      "cell_type": "code",
      "execution_count": null,
      "id": "75384db3",
      "metadata": {
        "id": "75384db3"
      },
      "outputs": [],
      "source": [
        "#thats how i want to show you"
      ]
    },
    {
      "cell_type": "code",
      "execution_count": null,
      "id": "f8386f1c",
      "metadata": {
        "id": "f8386f1c"
      },
      "outputs": [],
      "source": [
        "#Sort Method\n",
        "#What is sort method ? sort method helps in  to arrange the elements by ascending and descending order.\n",
        "#lets see."
      ]
    },
    {
      "cell_type": "code",
      "execution_count": null,
      "id": "f4f948cb",
      "metadata": {
        "id": "f4f948cb",
        "outputId": "db04826f-b675-47e9-f945-1dbbba05e9ba"
      },
      "outputs": [
        {
          "data": {
            "text/plain": [
              "[99, 88, 77, 66, 55, 44, 66, 55, 44, 33, 22, 11]"
            ]
          },
          "execution_count": 133,
          "metadata": {},
          "output_type": "execute_result"
        }
      ],
      "source": [
        "lst1"
      ]
    },
    {
      "cell_type": "code",
      "execution_count": null,
      "id": "c3af82ba",
      "metadata": {
        "id": "c3af82ba"
      },
      "outputs": [],
      "source": [
        "lst1.sort() #this will sort in ascending order"
      ]
    },
    {
      "cell_type": "code",
      "execution_count": null,
      "id": "172b75e0",
      "metadata": {
        "id": "172b75e0",
        "outputId": "64900443-08de-499c-8588-e9e553a79d6b"
      },
      "outputs": [
        {
          "data": {
            "text/plain": [
              "[11, 22, 33, 44, 44, 55, 55, 66, 66, 77, 88, 99]"
            ]
          },
          "execution_count": 135,
          "metadata": {},
          "output_type": "execute_result"
        }
      ],
      "source": [
        "lst1"
      ]
    },
    {
      "cell_type": "code",
      "execution_count": null,
      "id": "27480185",
      "metadata": {
        "id": "27480185"
      },
      "outputs": [],
      "source": [
        "#sort in descending order."
      ]
    },
    {
      "cell_type": "code",
      "execution_count": null,
      "id": "ebaf3cf3",
      "metadata": {
        "id": "ebaf3cf3",
        "outputId": "61544619-2ca6-4068-faab-325e9deda4a2"
      },
      "outputs": [
        {
          "data": {
            "text/plain": [
              "[11, 22, 33, 44, 44, 55, 55, 66, 66, 77, 88, 99]"
            ]
          },
          "execution_count": 137,
          "metadata": {},
          "output_type": "execute_result"
        }
      ],
      "source": [
        "lst1"
      ]
    },
    {
      "cell_type": "code",
      "execution_count": null,
      "id": "1ace3698",
      "metadata": {
        "id": "1ace3698"
      },
      "outputs": [],
      "source": [
        "lst1.sort(reverse=True) #this will sort in descending order"
      ]
    },
    {
      "cell_type": "code",
      "execution_count": null,
      "id": "af546722",
      "metadata": {
        "id": "af546722",
        "outputId": "5f29e586-de9a-424b-9a06-90ee8263c6f4"
      },
      "outputs": [
        {
          "data": {
            "text/plain": [
              "[99, 88, 77, 66, 66, 55, 55, 44, 44, 33, 22, 11]"
            ]
          },
          "execution_count": 139,
          "metadata": {},
          "output_type": "execute_result"
        }
      ],
      "source": [
        "lst1"
      ]
    },
    {
      "cell_type": "code",
      "execution_count": null,
      "id": "c8fd9552",
      "metadata": {
        "id": "c8fd9552"
      },
      "outputs": [],
      "source": [
        "#AI/ML Engineer-Saurav\n",
        "#Date-25 June 2024\n",
        "#Time- 14:15\n"
      ]
    },
    {
      "cell_type": "code",
      "execution_count": null,
      "id": "348acc67-ae29-4542-9fcb-0597ba9cd629",
      "metadata": {
        "id": "348acc67-ae29-4542-9fcb-0597ba9cd629"
      },
      "outputs": [],
      "source": []
    }
  ],
  "metadata": {
    "kernelspec": {
      "display_name": "Python 3 (ipykernel)",
      "language": "python",
      "name": "python3"
    },
    "language_info": {
      "codemirror_mode": {
        "name": "ipython",
        "version": 3
      },
      "file_extension": ".py",
      "mimetype": "text/x-python",
      "name": "python",
      "nbconvert_exporter": "python",
      "pygments_lexer": "ipython3",
      "version": "3.10.12"
    },
    "colab": {
      "provenance": []
    }
  },
  "nbformat": 4,
  "nbformat_minor": 5
}