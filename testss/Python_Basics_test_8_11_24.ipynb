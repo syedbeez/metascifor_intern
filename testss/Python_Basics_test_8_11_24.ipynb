{
  "nbformat": 4,
  "nbformat_minor": 0,
  "metadata": {
    "colab": {
      "provenance": []
    },
    "kernelspec": {
      "name": "python3",
      "display_name": "Python 3"
    },
    "language_info": {
      "name": "python"
    }
  },
  "cells": [
    {
      "cell_type": "markdown",
      "source": [
        "**Simple Expressions**\n",
        " 1. Write a Python expression to calculate the area of a circle with radius r = 7.\n",
        " 2. What will be the output of the expression 2 * 3 + 4?\n",
        " 3. Calculate the result of (8 / 2) * (3 + 2).\n",
        " 4. Write an expression to find the remainder when 15 is divided by 4.\n",
        " 5. Write a Python expression to convert 100 Fahrenheit to Celsius using the formula: C = (F - 32) *\n",
        " 5/9.\n",
        " 6. Evaluate the expression: 10 // 3 + 2 ** 3.\n",
        " 7. What does the expression 5 == 5 and 4 < 6 evaluate to?\n",
        " 8. What is the output of not (4 > 5 or 3 == 3)?\n",
        " 9. Write an expression that checks if a number x is odd"
      ],
      "metadata": {
        "id": "zoF2mPp4_0vm"
      }
    },
    {
      "cell_type": "code",
      "execution_count": 1,
      "metadata": {
        "colab": {
          "base_uri": "https://localhost:8080/"
        },
        "id": "oxD9dzUY_yeD",
        "outputId": "4d2df4fe-435a-4b03-938a-fb79c5fc3111"
      },
      "outputs": [
        {
          "output_type": "stream",
          "name": "stdout",
          "text": [
            "area of the circle is 153.86\n",
            "area of the circle is 153.86\n"
          ]
        }
      ],
      "source": [
        "# 1. Write a Python expression to calculate the area of a circle with radius r = 7\n",
        "\n",
        "#value of pi is 3.17 and area of circle is pi * r^2\n",
        "\n",
        "\n",
        "r=7\n",
        "pi=3.14\n",
        "area=pi*r*r\n",
        "print(\"area of the circle is\",area)\n",
        "\n",
        "#similarly\n",
        "area2=pi*r**2\n",
        "print(\"area of the circle is\",area2)"
      ]
    },
    {
      "cell_type": "code",
      "source": [
        "## 2. What will be the output of the expression 2 * 3 + 4 ?\n",
        "print(2*3+4)"
      ],
      "metadata": {
        "colab": {
          "base_uri": "https://localhost:8080/"
        },
        "id": "FuFm0ksGAPbD",
        "outputId": "493ff4eb-52d9-49ea-b12b-5f7c69b134b9"
      },
      "execution_count": 2,
      "outputs": [
        {
          "output_type": "stream",
          "name": "stdout",
          "text": [
            "10\n"
          ]
        }
      ]
    },
    {
      "cell_type": "code",
      "source": [
        "## 3 Calculate the result of (8 / 2) * (3 + 2)\n",
        "print((8/2)*(3+2))"
      ],
      "metadata": {
        "colab": {
          "base_uri": "https://localhost:8080/"
        },
        "id": "iCGeWPrmAZwk",
        "outputId": "95576a6f-7ef9-47d0-a20c-c102c4866137"
      },
      "execution_count": 3,
      "outputs": [
        {
          "output_type": "stream",
          "name": "stdout",
          "text": [
            "20.0\n"
          ]
        }
      ]
    },
    {
      "cell_type": "code",
      "source": [
        "## 4. Write an expression to find the remainder when 15 is divided by 4\n",
        "print(15%4)"
      ],
      "metadata": {
        "colab": {
          "base_uri": "https://localhost:8080/"
        },
        "id": "IA3roi9ZAgtD",
        "outputId": "cddf5c51-eaf4-4fda-8c46-79fc928d0738"
      },
      "execution_count": 4,
      "outputs": [
        {
          "output_type": "stream",
          "name": "stdout",
          "text": [
            "3\n"
          ]
        }
      ]
    },
    {
      "cell_type": "code",
      "source": [
        "print(15//4)"
      ],
      "metadata": {
        "colab": {
          "base_uri": "https://localhost:8080/"
        },
        "id": "OL2sc0svAjNF",
        "outputId": "9d154de5-5b43-4a08-de3e-1ae060baa6fc"
      },
      "execution_count": 7,
      "outputs": [
        {
          "output_type": "stream",
          "name": "stdout",
          "text": [
            "3\n"
          ]
        }
      ]
    },
    {
      "cell_type": "code",
      "source": [
        "# 5 . Write an expression to convert Fahrenheit to Celsius\n",
        "f = 100 #f=int(input(\"enter the temperature in fahrenheit\"))\n",
        "c = (f - 32) * 5 / 9\n",
        "print(c)"
      ],
      "metadata": {
        "colab": {
          "base_uri": "https://localhost:8080/"
        },
        "id": "0ZCAIHrsAnE-",
        "outputId": "ddfa93f8-2e5e-48f3-c1db-16972ef45218"
      },
      "execution_count": 11,
      "outputs": [
        {
          "output_type": "stream",
          "name": "stdout",
          "text": [
            "37.77777777777778\n"
          ]
        }
      ]
    },
    {
      "cell_type": "code",
      "source": [
        "#6. Write an expression to calculate the value of 10//3 + 2**3\n",
        "print(10 // 3 + 2 ** 3)"
      ],
      "metadata": {
        "colab": {
          "base_uri": "https://localhost:8080/"
        },
        "id": "wLHnnA3lA_sI",
        "outputId": "6d2ced92-4b73-4d83-d42a-41ee458d15a6"
      },
      "execution_count": 13,
      "outputs": [
        {
          "output_type": "stream",
          "name": "stdout",
          "text": [
            "11\n"
          ]
        }
      ]
    },
    {
      "cell_type": "code",
      "source": [
        "#7. What does the expxression 5==5 and 4<6 return\n",
        "#since both are true we get true\n",
        "print (5==5 and 4<6)"
      ],
      "metadata": {
        "colab": {
          "base_uri": "https://localhost:8080/"
        },
        "id": "SjI8L9n4BAgq",
        "outputId": "a2e3b24c-e9db-4dce-abc4-374af97dd5e0"
      },
      "execution_count": 14,
      "outputs": [
        {
          "output_type": "stream",
          "name": "stdout",
          "text": [
            "True\n"
          ]
        }
      ]
    },
    {
      "cell_type": "code",
      "source": [
        "#8. what is the output of not(4 > 5 or 3 == 3)\n",
        "#in or one condition has be true in this case 3==3 is true and not makes output false\n",
        "print(not(4 > 5 or 3 == 3))"
      ],
      "metadata": {
        "colab": {
          "base_uri": "https://localhost:8080/"
        },
        "id": "MZuVAfapB_e4",
        "outputId": "245a8030-62c8-4fe4-de52-e999b7cba03b"
      },
      "execution_count": 22,
      "outputs": [
        {
          "output_type": "stream",
          "name": "stdout",
          "text": [
            "False\n"
          ]
        }
      ]
    },
    {
      "cell_type": "code",
      "source": [
        "#9. Write an expression that checks if a number x is odd\n",
        "#a number is odd when remainder is not zero when it is divided by 2\n",
        "number=int(input(\"enter the number : \"))\n",
        "if number%2!=0:\n",
        "    print (\"number is odd\")"
      ],
      "metadata": {
        "colab": {
          "base_uri": "https://localhost:8080/"
        },
        "id": "juKi20z7BcSq",
        "outputId": "054abf31-0eda-4545-dd19-2c33c4b55f4c"
      },
      "execution_count": 19,
      "outputs": [
        {
          "output_type": "stream",
          "name": "stdout",
          "text": [
            "enter the number : 3\n",
            "number is odd\n"
          ]
        }
      ]
    },
    {
      "cell_type": "markdown",
      "source": [
        "**Data Types**\n",
        " 10. What is the type of the value 5.0?\n",
        " 11. How do you convert the integer 42 to a string?\n",
        " 12. What will the expression str(3.14) + ' is pi' output?\n",
        " 13. What is the output type of the expression 4 + 3.5?\n",
        " 14. Write a Python code to take an input from the user and convert it to an integer.\n",
        " 15. How can you find the type of a variable in Python?\n",
        " 16. Create a variable my_name and assign your name to it. Check if it is of type str."
      ],
      "metadata": {
        "id": "bV6CqvzfCgWy"
      }
    },
    {
      "cell_type": "code",
      "source": [
        "#10 What is the type of the value 5.0?\n",
        "#check type of the value 5.0 (it is decimel so float)\n",
        "type(5.0)"
      ],
      "metadata": {
        "colab": {
          "base_uri": "https://localhost:8080/"
        },
        "id": "YWMPOsQYCe8U",
        "outputId": "419bbe4d-503e-45e0-9a28-b427ce1928b0"
      },
      "execution_count": 23,
      "outputs": [
        {
          "output_type": "execute_result",
          "data": {
            "text/plain": [
              "float"
            ]
          },
          "metadata": {},
          "execution_count": 23
        }
      ]
    },
    {
      "cell_type": "code",
      "source": [
        "#11 How do you convert the integer 42 to a string?\n",
        "#we use casting to make a integer into string\n",
        "string=str(42)\n",
        "type(string)"
      ],
      "metadata": {
        "colab": {
          "base_uri": "https://localhost:8080/"
        },
        "id": "Wo8b7A08Ck74",
        "outputId": "c897b564-5ecb-4c2c-bbc8-c1164dec6ff4"
      },
      "execution_count": 25,
      "outputs": [
        {
          "output_type": "execute_result",
          "data": {
            "text/plain": [
              "str"
            ]
          },
          "metadata": {},
          "execution_count": 25
        }
      ]
    },
    {
      "cell_type": "code",
      "source": [
        "#12\n",
        "print( str(3.14) + ' is pi')"
      ],
      "metadata": {
        "colab": {
          "base_uri": "https://localhost:8080/"
        },
        "id": "tBeqXzR2Ct_7",
        "outputId": "b7c86fd7-98c8-4f13-8cd7-2743b31e62aa"
      },
      "execution_count": 26,
      "outputs": [
        {
          "output_type": "stream",
          "name": "stdout",
          "text": [
            "3.14 is pi\n"
          ]
        }
      ]
    },
    {
      "cell_type": "code",
      "source": [
        " #13\n",
        " val=4+3.5\n",
        " type(val)"
      ],
      "metadata": {
        "colab": {
          "base_uri": "https://localhost:8080/"
        },
        "id": "P90x8MUYC__H",
        "outputId": "1d30547f-c614-4ac6-fadd-fc7830771caa"
      },
      "execution_count": 29,
      "outputs": [
        {
          "output_type": "execute_result",
          "data": {
            "text/plain": [
              "float"
            ]
          },
          "metadata": {},
          "execution_count": 29
        }
      ]
    },
    {
      "cell_type": "code",
      "source": [
        "#14\n",
        "#we get input from user using input() function and cast (convert) it to integer\n",
        "#as default is string\n",
        "test=int(input(\"enter the number : \"))\n",
        "\n",
        "type(test)"
      ],
      "metadata": {
        "colab": {
          "base_uri": "https://localhost:8080/"
        },
        "id": "3XsP838WDIwq",
        "outputId": "7ea6503d-3952-4fff-ea18-84e156f97c43"
      },
      "execution_count": 30,
      "outputs": [
        {
          "name": "stdout",
          "output_type": "stream",
          "text": [
            "enter the number : 4\n"
          ]
        },
        {
          "output_type": "execute_result",
          "data": {
            "text/plain": [
              "int"
            ]
          },
          "metadata": {},
          "execution_count": 30
        }
      ]
    },
    {
      "cell_type": "code",
      "source": [
        "#15\n",
        "#we find type of a variable in python by using type() function\n",
        "type(test)"
      ],
      "metadata": {
        "colab": {
          "base_uri": "https://localhost:8080/"
        },
        "id": "4vxxQR74DWyl",
        "outputId": "b7c81081-939e-4cb4-f413-e166526887f8"
      },
      "execution_count": 31,
      "outputs": [
        {
          "output_type": "execute_result",
          "data": {
            "text/plain": [
              "int"
            ]
          },
          "metadata": {},
          "execution_count": 31
        }
      ]
    },
    {
      "cell_type": "code",
      "source": [
        "#16\n",
        "#created a variable my_name and entered my name in quotes\n",
        "my_name=\"Syed Abdallah Albeez\"\n",
        "print(my_name, type(my_name))"
      ],
      "metadata": {
        "colab": {
          "base_uri": "https://localhost:8080/"
        },
        "id": "eriHgr-oDe39",
        "outputId": "c7f80d6a-5caa-4e53-b4b1-30f16fcd1e9c"
      },
      "execution_count": 33,
      "outputs": [
        {
          "output_type": "stream",
          "name": "stdout",
          "text": [
            "Syed Abdallah Albeez <class 'str'>\n"
          ]
        }
      ]
    },
    {
      "cell_type": "markdown",
      "source": [
        "**Data Structures - Lists, Tuples, Sets, and Dictionaries**\n",
        " 17. How do you create an empty list in Python?\n",
        " 18. Write code to add an element 42 to the end of the list [1, 2, 3].\n",
        " 19. How do you access the third element in the list my_list = [10, 20, 30, 40]?\n",
        " 20. What is the difference between a list and a tuple in Python?\n",
        " 21. Write a Python code to create a set with the elements 1, 2, and 3.\n",
        " 22. How do you remove an element from a set in Python?\n",
        " 23. Write code to retrieve the value of the key 'name' from the dictionary person = {'name': 'Alice',\n",
        " 'age': 25}.\n",
        " 24. Create a dictionary with three key-value pairs and then remove one pair from it.\n",
        " 25. Given my_tuple = (5, 10, 15), how can you access the element 10?"
      ],
      "metadata": {
        "id": "4XNTui9hDrZB"
      }
    },
    {
      "cell_type": "code",
      "source": [
        "#17\n",
        "empl=[] #empty list\n",
        "type(empl)"
      ],
      "metadata": {
        "colab": {
          "base_uri": "https://localhost:8080/"
        },
        "id": "wGi_99ZyDlzm",
        "outputId": "443c06c7-6e19-4dde-9e9e-0171b5681628"
      },
      "execution_count": 35,
      "outputs": [
        {
          "output_type": "execute_result",
          "data": {
            "text/plain": [
              "list"
            ]
          },
          "metadata": {},
          "execution_count": 35
        }
      ]
    },
    {
      "cell_type": "code",
      "source": [
        "#18\n",
        "list=[1,2,3]\n",
        "list.append(42) #append is used to add an element to the end of the list\n",
        "print(list)"
      ],
      "metadata": {
        "colab": {
          "base_uri": "https://localhost:8080/"
        },
        "id": "0DjKeWIqDtye",
        "outputId": "861a05bc-7135-4310-e0ab-6ffb7a9bddab"
      },
      "execution_count": 38,
      "outputs": [
        {
          "output_type": "stream",
          "name": "stdout",
          "text": [
            "[1, 2, 3, 42]\n"
          ]
        }
      ]
    },
    {
      "cell_type": "code",
      "source": [
        "#19\n",
        "my_list = [10, 20, 30, 40]\n",
        "print(my_list[2]) #list indexing starts from 0 we give 2 as index to get third element"
      ],
      "metadata": {
        "colab": {
          "base_uri": "https://localhost:8080/"
        },
        "id": "9g6G0BN9EDZD",
        "outputId": "254bf7d0-9683-40b4-f68a-c472db4abd0c"
      },
      "execution_count": 43,
      "outputs": [
        {
          "output_type": "stream",
          "name": "stdout",
          "text": [
            "30\n"
          ]
        }
      ]
    },
    {
      "cell_type": "code",
      "source": [
        "#20\n",
        "\n",
        "#list is mutable and tupple is immutable\n",
        "my_list = [10, 20, 30, 40]\n",
        "my_list[1] = 99\n",
        "print(my_list)\n",
        "#in tupple we will get error\n",
        "my_tupple=(10,20,30,40)\n",
        "my_tupple[1]=99\n",
        "print(my_tupple)"
      ],
      "metadata": {
        "colab": {
          "base_uri": "https://localhost:8080/",
          "height": 211
        },
        "id": "20II_TWqEV0e",
        "outputId": "e04dfa6a-8351-4621-8871-9b748fb9d13c"
      },
      "execution_count": 45,
      "outputs": [
        {
          "output_type": "stream",
          "name": "stdout",
          "text": [
            "[10, 99, 30, 40]\n"
          ]
        },
        {
          "output_type": "error",
          "ename": "TypeError",
          "evalue": "'tuple' object does not support item assignment",
          "traceback": [
            "\u001b[0;31m---------------------------------------------------------------------------\u001b[0m",
            "\u001b[0;31mTypeError\u001b[0m                                 Traceback (most recent call last)",
            "\u001b[0;32m<ipython-input-45-6027dd6ba647>\u001b[0m in \u001b[0;36m<cell line: 7>\u001b[0;34m()\u001b[0m\n\u001b[1;32m      5\u001b[0m \u001b[0;34m\u001b[0m\u001b[0m\n\u001b[1;32m      6\u001b[0m \u001b[0mmy_tupple\u001b[0m\u001b[0;34m=\u001b[0m\u001b[0;34m(\u001b[0m\u001b[0;36m10\u001b[0m\u001b[0;34m,\u001b[0m\u001b[0;36m20\u001b[0m\u001b[0;34m,\u001b[0m\u001b[0;36m30\u001b[0m\u001b[0;34m,\u001b[0m\u001b[0;36m40\u001b[0m\u001b[0;34m)\u001b[0m\u001b[0;34m\u001b[0m\u001b[0;34m\u001b[0m\u001b[0m\n\u001b[0;32m----> 7\u001b[0;31m \u001b[0mmy_tupple\u001b[0m\u001b[0;34m[\u001b[0m\u001b[0;36m1\u001b[0m\u001b[0;34m]\u001b[0m\u001b[0;34m=\u001b[0m\u001b[0;36m99\u001b[0m\u001b[0;34m\u001b[0m\u001b[0;34m\u001b[0m\u001b[0m\n\u001b[0m\u001b[1;32m      8\u001b[0m \u001b[0mprint\u001b[0m\u001b[0;34m(\u001b[0m\u001b[0mmy_tupple\u001b[0m\u001b[0;34m)\u001b[0m\u001b[0;34m\u001b[0m\u001b[0;34m\u001b[0m\u001b[0m\n",
            "\u001b[0;31mTypeError\u001b[0m: 'tuple' object does not support item assignment"
          ]
        }
      ]
    },
    {
      "cell_type": "code",
      "source": [
        "#21\n",
        "\n",
        "set={1,2,3,4}\n",
        "print(set)"
      ],
      "metadata": {
        "colab": {
          "base_uri": "https://localhost:8080/"
        },
        "id": "O3voiV3FEqGQ",
        "outputId": "d41ffc3e-a26d-49d8-cb04-0012814257d2"
      },
      "execution_count": 46,
      "outputs": [
        {
          "output_type": "stream",
          "name": "stdout",
          "text": [
            "{1, 2, 3, 4}\n"
          ]
        }
      ]
    },
    {
      "cell_type": "code",
      "source": [
        "#22\n",
        "#How do you remove an element from a set in Python?\n",
        "set.remove(2)\n",
        "print(set)"
      ],
      "metadata": {
        "colab": {
          "base_uri": "https://localhost:8080/"
        },
        "id": "MqQW7KV8E7IC",
        "outputId": "97fcf009-74cc-4a98-f943-69b095fde319"
      },
      "execution_count": 47,
      "outputs": [
        {
          "output_type": "stream",
          "name": "stdout",
          "text": [
            "{1, 3, 4}\n"
          ]
        }
      ]
    },
    {
      "cell_type": "code",
      "source": [
        "#23\n",
        "dict={'name': 'Alice', 'age': 25}\n",
        "#dictionaries have key and value in this case name is key and alice is value and age is another key and 25 is value\n",
        "#key is dabba and value is atta\n",
        "print(dict['name'])"
      ],
      "metadata": {
        "colab": {
          "base_uri": "https://localhost:8080/"
        },
        "id": "5du5HQG3FGab",
        "outputId": "3c14e2bb-1312-456b-f824-7f90f731cf1d"
      },
      "execution_count": 90,
      "outputs": [
        {
          "output_type": "stream",
          "name": "stdout",
          "text": [
            "Alice\n"
          ]
        }
      ]
    },
    {
      "cell_type": "code",
      "source": [
        "#24\n",
        "dict={'name': 'Alice', 'age': 25}\n",
        "dict.pop('age') #remove key and value\n",
        "print(dict)"
      ],
      "metadata": {
        "colab": {
          "base_uri": "https://localhost:8080/"
        },
        "id": "OUk3DGOpOP1N",
        "outputId": "9f32ec19-c4cf-43ba-ecec-223364c4df5a"
      },
      "execution_count": 92,
      "outputs": [
        {
          "output_type": "stream",
          "name": "stdout",
          "text": [
            "{'name': 'Alice'}\n"
          ]
        }
      ]
    },
    {
      "cell_type": "code",
      "source": [
        "#25\n",
        "tupple=(5,10,15)\n",
        "print(tupple[1]) #print tupple element at index 1 (second element)(index starts from 0)"
      ],
      "metadata": {
        "colab": {
          "base_uri": "https://localhost:8080/"
        },
        "id": "SLuc9sDwOeYf",
        "outputId": "9e9d0431-59e9-485f-a215-27fa5d26b846"
      },
      "execution_count": 93,
      "outputs": [
        {
          "output_type": "stream",
          "name": "stdout",
          "text": [
            "10\n"
          ]
        }
      ]
    },
    {
      "cell_type": "markdown",
      "source": [
        "Methods of Data Structures\n",
        " 26. How do you find the length of a list numbers = [1, 2, 3, 4, 5]?\n",
        " 27. What method would you use to add an element at a specific index in a list?\n",
        " 28. Write a Python code to sort the list [4, 1, 3, 2] in ascending order.\n",
        " 29. How do you check if the number 5 is in the list [1, 2, 3, 4, 5]?\n",
        " 30. Write a code to concatenate two lists [1, 2, 3] and [4, 5, 6]"
      ],
      "metadata": {
        "id": "0cNusocDFHFt"
      }
    },
    {
      "cell_type": "code",
      "source": [
        "#26\n",
        "list=[1,2,3,4,5]\n",
        "len(list) #there are 5 elements"
      ],
      "metadata": {
        "colab": {
          "base_uri": "https://localhost:8080/"
        },
        "id": "7akWAnVCFLF7",
        "outputId": "221845f9-2591-4e4c-ed93-7d1bddb6af76"
      },
      "execution_count": 96,
      "outputs": [
        {
          "output_type": "execute_result",
          "data": {
            "text/plain": [
              "5"
            ]
          },
          "metadata": {},
          "execution_count": 96
        }
      ]
    },
    {
      "cell_type": "code",
      "source": [
        "#27\n",
        "#add element at specific index\n",
        "list.insert(2,6) #we add 6 at index 2 which is 3rd index\n",
        "print(list)"
      ],
      "metadata": {
        "colab": {
          "base_uri": "https://localhost:8080/"
        },
        "id": "k4I21XVLPDQH",
        "outputId": "4aea07de-965b-48d5-c109-6ee13d4a5975"
      },
      "execution_count": 97,
      "outputs": [
        {
          "output_type": "stream",
          "name": "stdout",
          "text": [
            "[1, 2, 6, 3, 4, 5]\n"
          ]
        }
      ]
    },
    {
      "cell_type": "code",
      "source": [
        "#28\n",
        "#by default sorting will go from smallest to largest\n",
        "list=[4,1,3,2]\n",
        "list.sort()\n",
        "print(list)\n",
        "\n",
        "#descending will go from largest to smallest we use reverse=True in the sort function\n",
        "list.sort(reverse=True)\n",
        "print(list)"
      ],
      "metadata": {
        "colab": {
          "base_uri": "https://localhost:8080/"
        },
        "id": "VUf44tuAFNjN",
        "outputId": "57776f3c-9c80-40d6-8e7a-f5e4d6e62634"
      },
      "execution_count": 54,
      "outputs": [
        {
          "output_type": "stream",
          "name": "stdout",
          "text": [
            "[1, 2, 3, 4]\n",
            "[4, 3, 2, 1]\n"
          ]
        }
      ]
    },
    {
      "cell_type": "code",
      "source": [
        "#29\n",
        "list=[1,2,3,4,5]\n",
        "print(5 in list) #check if 5 is present in list"
      ],
      "metadata": {
        "colab": {
          "base_uri": "https://localhost:8080/"
        },
        "id": "NY1pLfLVFg1j",
        "outputId": "48e42d90-be5c-4f6b-cae7-667997fb9d94"
      },
      "execution_count": 55,
      "outputs": [
        {
          "output_type": "stream",
          "name": "stdout",
          "text": [
            "True\n"
          ]
        }
      ]
    },
    {
      "cell_type": "code",
      "source": [
        "#30\n",
        "l1=[1,2,3]\n",
        "l2=[4,5,6]\n",
        "#l1+=l2   #this will add l2 to l1 can be written as l1.extend(l2) or l1=l1+l2\n",
        "print(l1)"
      ],
      "metadata": {
        "colab": {
          "base_uri": "https://localhost:8080/"
        },
        "id": "2hy49CY_F3g4",
        "outputId": "cb90fab7-bede-4d2d-844b-4e067a010766"
      },
      "execution_count": 60,
      "outputs": [
        {
          "output_type": "stream",
          "name": "stdout",
          "text": [
            "[1, 2, 3, 4, 5, 6]\n"
          ]
        }
      ]
    },
    {
      "cell_type": "markdown",
      "source": [
        "Branching\n",
        " 31. Write a Python if statement to check if a number x is positive.\n",
        " 32. Modify the previous question to include else to handle the case when x is negative or zero.\n",
        " 33. Write an if-elif-else block to check if a number is positive, negative, or zero.\n",
        " 34. How would you use a ternary operator to assign the value 10 to result if x > 5, otherwise assign\n",
        " 5?\n",
        " 35. Write an if statement that checks if a variable score is greater than or equal to 90, and if so,\n",
        " prints 'A grade'.\n",
        " 36. Use an if statement to check if a list fruits = ['apple', 'banana', 'cherry'] contains the element\n",
        " 'banana'.\n",
        " 37. Write a nested if statement that prints 'Adult Male' if age > 18 and gender == 'male'.\n",
        " 38. Create a Python code snippet using if statements to determine if a number is divisible by 3, 5, or\n",
        " both.\n",
        " 39. Write an if condition that checks if a string name is not empty and prints 'Name is provided'.\n",
        " 40. Use an if statement to check if a variable age is within the range 18 to 25 inclusive"
      ],
      "metadata": {
        "id": "IjbTOBWVHQOF"
      }
    },
    {
      "cell_type": "code",
      "source": [
        "#31 32 33\n",
        "x=10\n",
        "if x>0:\n",
        "    print(\"x is positive\")\n",
        "\n",
        "print(\"=\"*50)\n",
        "\n",
        "x=0\n",
        "if x > 0:\n",
        "    print(\"x is positive\")\n",
        "elif x == 0:\n",
        "    print(\"x is zero\")\n",
        "else:\n",
        "    print(\"x is negative\")\n",
        "\n",
        "print(\"=\"*50)\n",
        "x=-1\n",
        "\n",
        "if x > 0:\n",
        "    print(\"x is positive\")\n",
        "elif x == 0:\n",
        "    print(\"x is zero\")\n",
        "else:\n",
        "    print(\"x is negative\")"
      ],
      "metadata": {
        "colab": {
          "base_uri": "https://localhost:8080/"
        },
        "id": "76le-PGFGNd_",
        "outputId": "fb918446-6389-46bb-9193-9cd3d47235a7"
      },
      "execution_count": 78,
      "outputs": [
        {
          "output_type": "stream",
          "name": "stdout",
          "text": [
            "x is positive\n",
            "==================================================\n",
            "x is zero\n",
            "==================================================\n",
            "x is negative\n"
          ]
        }
      ]
    },
    {
      "cell_type": "code",
      "source": [
        "#34\n",
        "x=6\n",
        "\n",
        "if(x>5):\n",
        "  x=10\n",
        "else:\n",
        "  x=5\n",
        "\n",
        "print(x)"
      ],
      "metadata": {
        "colab": {
          "base_uri": "https://localhost:8080/"
        },
        "id": "6ok69nD5JGOR",
        "outputId": "7b2bd7df-2cdf-4b17-fd1e-0e33e8a5dee3"
      },
      "execution_count": 81,
      "outputs": [
        {
          "output_type": "stream",
          "name": "stdout",
          "text": [
            "10\n"
          ]
        }
      ]
    },
    {
      "cell_type": "code",
      "source": [
        "#35\n",
        "score=90\n",
        "\n",
        "if score>=90: #if score is greater than or equal to 90 A grade\n",
        "    print(\"A grade\")"
      ],
      "metadata": {
        "colab": {
          "base_uri": "https://localhost:8080/"
        },
        "id": "yp7VZqS6JoG_",
        "outputId": "e847073d-2189-4c63-a03b-32f0d0d64d5b"
      },
      "execution_count": 82,
      "outputs": [
        {
          "output_type": "stream",
          "name": "stdout",
          "text": [
            "A grade\n"
          ]
        }
      ]
    },
    {
      "cell_type": "code",
      "source": [
        "#36\n",
        "fruits=[\"apple\",\"banana\",\"cherry\"]\n",
        "print(\"banana\" in fruits) #check if banana is present in the list"
      ],
      "metadata": {
        "colab": {
          "base_uri": "https://localhost:8080/"
        },
        "id": "-1BQT19pJvY2",
        "outputId": "94b8da9f-459d-420a-fae6-facdf231e658"
      },
      "execution_count": 83,
      "outputs": [
        {
          "output_type": "stream",
          "name": "stdout",
          "text": [
            "True\n"
          ]
        }
      ]
    },
    {
      "cell_type": "code",
      "source": [
        "#37\n",
        "age=int(input(\"enter your age : \"))\n",
        "gender=input(\"enter your gender : \")\n",
        "gender.islower()\n",
        "if age>18 and (gender==\"male\" or gender==\"female\"):\n",
        "  print(f\"Adult {gender}\")\n",
        "else:\n",
        "  print(f\"minor {gender}\")\n"
      ],
      "metadata": {
        "colab": {
          "base_uri": "https://localhost:8080/"
        },
        "id": "w9jgDaziKFdO",
        "outputId": "dd1597eb-c7f6-48df-bd31-c7f8f85f7351"
      },
      "execution_count": 99,
      "outputs": [
        {
          "output_type": "stream",
          "name": "stdout",
          "text": [
            "enter your age : 19\n",
            "enter your gender : male\n",
            "Adult male\n"
          ]
        }
      ]
    },
    {
      "cell_type": "code",
      "source": [
        "#38\n",
        "number=(int(input(\"enter a number : \")))\n",
        "\n",
        "if number%3==0 and number%5==0:\n",
        "  print(f\"{number} is divisible by 3 and 5\")\n",
        "elif number%3==0 or number%5==0:\n",
        "  print(f\"{number} is divisible by 3 or 5\")\n",
        "else:\n",
        "  print(f\"{number} is not divisible by 3 or 5\")\n",
        "\n"
      ],
      "metadata": {
        "colab": {
          "base_uri": "https://localhost:8080/"
        },
        "id": "I5howcIPKzDQ",
        "outputId": "eb22de05-90a3-4f51-cce2-3d5b1aeb4613"
      },
      "execution_count": 89,
      "outputs": [
        {
          "output_type": "stream",
          "name": "stdout",
          "text": [
            "enter a number : 15\n",
            "15 is divisible by 3 and 5\n"
          ]
        }
      ]
    },
    {
      "cell_type": "code",
      "source": [
        "#39\n",
        "#Write an if condition that checks if a string name is not empty and prints 'Name is provided'\n",
        "name=input(\"enter your name : \")\n",
        "if name!=\"\":\n",
        "  print(\"name provided is\",name)"
      ],
      "metadata": {
        "id": "oJfXGOXpMIJP"
      },
      "execution_count": null,
      "outputs": []
    },
    {
      "cell_type": "code",
      "source": [
        "#40\n",
        "age=int(input(\"enter a number : \"))\n",
        "\n",
        "if age in range(18,26):\n",
        "  print(f\"{age} is in range\")\n",
        "else:\n",
        "  print(f\"{age} is not in range\")"
      ],
      "metadata": {
        "colab": {
          "base_uri": "https://localhost:8080/"
        },
        "id": "6Tw5pZQdQP0r",
        "outputId": "ea6b9da3-8db9-4f0b-f2e4-39ec7861e31b"
      },
      "execution_count": 100,
      "outputs": [
        {
          "output_type": "stream",
          "name": "stdout",
          "text": [
            "enter a number : 19\n",
            "19 is in range\n"
          ]
        }
      ]
    }
  ]
}