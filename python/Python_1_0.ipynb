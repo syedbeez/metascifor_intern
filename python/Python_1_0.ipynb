{
  "cells": [
    {
      "cell_type": "markdown",
      "id": "6a2d36db-e5ae-4aa2-8943-2d7c9e8a720a",
      "metadata": {
        "id": "6a2d36db-e5ae-4aa2-8943-2d7c9e8a720a"
      },
      "source": [
        "# Python\n",
        "\n",
        "Python is a high-level, interpreted programming language known for its readability, simplicity, and versatility. It was created by Guido van Rossum and first released in 1991. Python emphasizes code readability and allows programmers to express concepts in fewer lines of code compared to languages such as C++ or Java.\n",
        "\n",
        "\n",
        "\n",
        "#### High-Level Language:\n",
        "\n",
        "Python is easy to read and write because it handles many complex details for you. You can focus on solving problems rather than managing the computer's inner workings.\n",
        "\n",
        "####  Interpreted Language:\n",
        "\n",
        "Python code is run by an interpreter line-by-line, which makes it easy to test and debug. This can make it slower than some other languages that are compiled all at once.\n",
        "\n",
        "####  Dynamically Typed:\n",
        "\n",
        "You don’t need to specify the type of data (like number or text) when you create a variable. Python figures it out automatically when the program runs.\n",
        "\n",
        "#### Versatile and General-Purpose:\n",
        "\n",
        "Python is useful for many different tasks, such as building websites, analyzing data, automating tasks, and developing games.\n",
        "\n",
        "####  Readable and Maintainable Code:\n",
        "\n",
        "Python’s syntax is clear and straightforward, making it easy to read and understand. This helps programmers write clean and organized code that others can easily maintain.\n",
        "####  Extensive Standard Library:\n",
        "\n",
        "Python includes many built-in tools and modules that help you perform common tasks without needing to write a lot of code from scratch.\n",
        "\n",
        "#### Supports Multiple Programming Styles:\n",
        "\n",
        "You can write Python code in different styles, such as procedural (step-by-step), object-oriented (using classes and objects), or functional (using functions as first-class citizens).\n",
        "\n",
        "\n",
        "#### Strong Community and Ecosystem:\n",
        "\n",
        "Python has a large community of users and developers who contribute to a wide range of libraries and tools. This means plenty of resources, support, and pre-built solutions are available.\n",
        "\n",
        "\n",
        "####  Platform Independent:\n",
        "\n",
        "Python works on many operating systems like Windows, macOS, and Linux. You can run the same Python code on any of these systems without making changes.\n",
        "\n",
        "####  Popular for Data Science and AI:\n",
        "\n",
        "Python is widely used in data science and artificial intelligence because it has powerful libraries for data analysis and machine learning. This makes it a top choice for researchers and data analysts.\n"
      ]
    },
    {
      "cell_type": "code",
      "execution_count": null,
      "id": "6ee1365e-ff28-42c4-b790-337285cdf82a",
      "metadata": {
        "id": "6ee1365e-ff28-42c4-b790-337285cdf82a"
      },
      "outputs": [],
      "source": [
        "#Basics Python\n",
        "#Lets Start With Simple Expression"
      ]
    },
    {
      "cell_type": "code",
      "execution_count": null,
      "id": "5ae98318",
      "metadata": {
        "id": "5ae98318"
      },
      "outputs": [],
      "source": [
        "#What is Keyword- Keyword is are special or reserved word the are recognised by python with some meaning\n",
        "#lets check how to check keywords:\n",
        "#lets see."
      ]
    },
    {
      "cell_type": "code",
      "execution_count": null,
      "id": "8a8bcd3b",
      "metadata": {
        "id": "8a8bcd3b"
      },
      "outputs": [],
      "source": [
        "import keyword #This will import keyword module\n"
      ]
    },
    {
      "cell_type": "code",
      "execution_count": null,
      "id": "ed1b975e",
      "metadata": {
        "id": "ed1b975e",
        "outputId": "a734625b-d9d8-4c21-9eaf-a69c419e5286"
      },
      "outputs": [
        {
          "name": "stdout",
          "output_type": "stream",
          "text": [
            "['False', 'None', 'True', 'and', 'as', 'assert', 'async', 'await', 'break', 'class', 'continue', 'def', 'del', 'elif', 'else', 'except', 'finally', 'for', 'from', 'global', 'if', 'import', 'in', 'is', 'lambda', 'nonlocal', 'not', 'or', 'pass', 'raise', 'return', 'try', 'while', 'with', 'yield']\n"
          ]
        }
      ],
      "source": [
        "print(keyword.kwlist) #This will print all the keywords in python"
      ]
    },
    {
      "cell_type": "code",
      "execution_count": null,
      "id": "bcacf9f7",
      "metadata": {
        "id": "bcacf9f7"
      },
      "outputs": [],
      "source": [
        "#This all are the keyword in python which can we easlily remember while practicing."
      ]
    },
    {
      "cell_type": "code",
      "execution_count": null,
      "id": "74c232ff",
      "metadata": {
        "id": "74c232ff"
      },
      "outputs": [],
      "source": [
        "#Lets start with  Boolean expression\n",
        "#what is boolean expression-Boolean express created with keywords like- and,or,not,True,False\n",
        "#lets se with examples."
      ]
    },
    {
      "cell_type": "code",
      "execution_count": null,
      "id": "62518e81",
      "metadata": {
        "id": "62518e81",
        "outputId": "0e46a467-a1a5-4fc0-a4be-54655c0d1b07"
      },
      "outputs": [
        {
          "data": {
            "text/plain": [
              "False"
            ]
          },
          "execution_count": 7,
          "metadata": {},
          "output_type": "execute_result"
        }
      ],
      "source": [
        "True and False"
      ]
    },
    {
      "cell_type": "code",
      "execution_count": null,
      "id": "a00f72cc",
      "metadata": {
        "id": "a00f72cc",
        "outputId": "baf489ca-1605-4baa-82f3-c48d20b0473c"
      },
      "outputs": [
        {
          "data": {
            "text/plain": [
              "True"
            ]
          },
          "execution_count": 8,
          "metadata": {},
          "output_type": "execute_result"
        }
      ],
      "source": [
        "True and True"
      ]
    },
    {
      "cell_type": "code",
      "execution_count": null,
      "id": "81b1d17e",
      "metadata": {
        "id": "81b1d17e",
        "outputId": "cc9cfe86-1375-4822-e3d1-2b244345da85"
      },
      "outputs": [
        {
          "data": {
            "text/plain": [
              "True"
            ]
          },
          "execution_count": 9,
          "metadata": {},
          "output_type": "execute_result"
        }
      ],
      "source": [
        "True or False"
      ]
    },
    {
      "cell_type": "code",
      "execution_count": null,
      "id": "66fd4a87",
      "metadata": {
        "id": "66fd4a87"
      },
      "outputs": [],
      "source": [
        "#lets see the diffrence between and/or\n",
        "#and-और\n",
        "#or-या\n",
        "#i think you should understand.\n",
        "#lets see with other example"
      ]
    },
    {
      "cell_type": "code",
      "execution_count": null,
      "id": "abc7c538",
      "metadata": {
        "id": "abc7c538",
        "outputId": "6e3e8abb-0877-409e-e310-d260a2d87a93"
      },
      "outputs": [
        {
          "data": {
            "text/plain": [
              "False"
            ]
          },
          "execution_count": 11,
          "metadata": {},
          "output_type": "execute_result"
        }
      ],
      "source": [
        "not True"
      ]
    },
    {
      "cell_type": "code",
      "execution_count": null,
      "id": "7560e2c6",
      "metadata": {
        "id": "7560e2c6",
        "outputId": "400f5128-b711-4c0e-d7c4-45b36fb4ef07"
      },
      "outputs": [
        {
          "data": {
            "text/plain": [
              "True"
            ]
          },
          "execution_count": 12,
          "metadata": {},
          "output_type": "execute_result"
        }
      ],
      "source": [
        "not False"
      ]
    },
    {
      "cell_type": "code",
      "execution_count": null,
      "id": "c42e4a6e",
      "metadata": {
        "id": "c42e4a6e",
        "outputId": "75ba6a03-a39c-4f14-ed65-61fbf96dd958"
      },
      "outputs": [
        {
          "data": {
            "text/plain": [
              "True"
            ]
          },
          "execution_count": 13,
          "metadata": {},
          "output_type": "execute_result"
        }
      ],
      "source": [
        "True is True"
      ]
    },
    {
      "cell_type": "code",
      "execution_count": null,
      "id": "22b888a5",
      "metadata": {
        "id": "22b888a5",
        "outputId": "4a549cc4-dbe5-407b-be4e-47607b215c1d"
      },
      "outputs": [
        {
          "data": {
            "text/plain": [
              "False"
            ]
          },
          "execution_count": 14,
          "metadata": {},
          "output_type": "execute_result"
        }
      ],
      "source": [
        "True is False"
      ]
    },
    {
      "cell_type": "code",
      "execution_count": null,
      "id": "cde83b88",
      "metadata": {
        "id": "cde83b88",
        "outputId": "4f5df21c-9c8c-4194-8d91-a88e9fcf80fc"
      },
      "outputs": [
        {
          "name": "stderr",
          "output_type": "stream",
          "text": [
            "<>:1: SyntaxWarning: \"is\" with a literal. Did you mean \"==\"?\n",
            "<>:1: SyntaxWarning: \"is\" with a literal. Did you mean \"==\"?\n",
            "/tmp/ipykernel_9837/4173413985.py:1: SyntaxWarning: \"is\" with a literal. Did you mean \"==\"?\n",
            "  'a' is 'b'\n"
          ]
        },
        {
          "data": {
            "text/plain": [
              "False"
            ]
          },
          "execution_count": 15,
          "metadata": {},
          "output_type": "execute_result"
        }
      ],
      "source": [
        "'a' is 'b'"
      ]
    },
    {
      "cell_type": "code",
      "execution_count": null,
      "id": "2f7a8cf9",
      "metadata": {
        "id": "2f7a8cf9"
      },
      "outputs": [],
      "source": [
        "#lets know one more thing\n",
        "#True=1\n",
        "#False=0"
      ]
    },
    {
      "cell_type": "code",
      "execution_count": null,
      "id": "2461adde",
      "metadata": {
        "id": "2461adde",
        "outputId": "90a04303-5f6d-4c45-cf32-d0fd75874a5b"
      },
      "outputs": [
        {
          "data": {
            "text/plain": [
              "2"
            ]
          },
          "execution_count": 17,
          "metadata": {},
          "output_type": "execute_result"
        }
      ],
      "source": [
        "True + True"
      ]
    },
    {
      "cell_type": "code",
      "execution_count": null,
      "id": "dcc81b7b",
      "metadata": {
        "id": "dcc81b7b",
        "outputId": "d5d89cfe-14fd-49a5-df8d-a43c21756fec"
      },
      "outputs": [
        {
          "data": {
            "text/plain": [
              "1"
            ]
          },
          "execution_count": 18,
          "metadata": {},
          "output_type": "execute_result"
        }
      ],
      "source": [
        "True + False"
      ]
    },
    {
      "cell_type": "code",
      "execution_count": null,
      "id": "f24a9410",
      "metadata": {
        "id": "f24a9410",
        "outputId": "29fd5dfc-9a08-40aa-c368-1b3d394c1c51"
      },
      "outputs": [
        {
          "data": {
            "text/plain": [
              "0"
            ]
          },
          "execution_count": 19,
          "metadata": {},
          "output_type": "execute_result"
        }
      ],
      "source": [
        "False + False"
      ]
    },
    {
      "cell_type": "code",
      "execution_count": null,
      "id": "8bf1d325",
      "metadata": {
        "id": "8bf1d325",
        "outputId": "691dc0dc-490a-4307-ee31-5f807c869d67"
      },
      "outputs": [
        {
          "data": {
            "text/plain": [
              "0"
            ]
          },
          "execution_count": 20,
          "metadata": {},
          "output_type": "execute_result"
        }
      ],
      "source": [
        "False - False"
      ]
    },
    {
      "cell_type": "code",
      "execution_count": null,
      "id": "7c168da5",
      "metadata": {
        "id": "7c168da5",
        "outputId": "198f0d0a-8d81-46e5-de16-7d5c8aeaff8b"
      },
      "outputs": [
        {
          "data": {
            "text/plain": [
              "-1"
            ]
          },
          "execution_count": 21,
          "metadata": {},
          "output_type": "execute_result"
        }
      ],
      "source": [
        "False-True"
      ]
    },
    {
      "cell_type": "code",
      "execution_count": null,
      "id": "cd9e20b8",
      "metadata": {
        "id": "cd9e20b8"
      },
      "outputs": [],
      "source": [
        "#lets know one more thing\n",
        "# (is)  and  (==) is same        == Means eqaul to"
      ]
    },
    {
      "cell_type": "code",
      "execution_count": null,
      "id": "6c08e884",
      "metadata": {
        "id": "6c08e884",
        "outputId": "14855bf6-ebbf-465b-b38b-8c0f96340e35"
      },
      "outputs": [
        {
          "data": {
            "text/plain": [
              "True"
            ]
          },
          "execution_count": 23,
          "metadata": {},
          "output_type": "execute_result"
        }
      ],
      "source": [
        "10<=10 # see if lhs lesser than OR equal to rhs, (it is equal so true)"
      ]
    },
    {
      "cell_type": "code",
      "execution_count": null,
      "id": "01ba3785",
      "metadata": {
        "id": "01ba3785",
        "outputId": "82e62270-bbaf-47a7-f49d-58c46dc3875e"
      },
      "outputs": [
        {
          "data": {
            "text/plain": [
              "True"
            ]
          },
          "execution_count": 24,
          "metadata": {},
          "output_type": "execute_result"
        }
      ],
      "source": [
        "10==10 #see if both are equal, they are so will be true"
      ]
    },
    {
      "cell_type": "code",
      "execution_count": null,
      "id": "00e64b00",
      "metadata": {
        "id": "00e64b00",
        "outputId": "3035fe3c-cfbb-4d28-f8e7-afbb5eeec0bf"
      },
      "outputs": [
        {
          "data": {
            "text/plain": [
              "True"
            ]
          },
          "execution_count": 25,
          "metadata": {},
          "output_type": "execute_result"
        }
      ],
      "source": [
        "True and False or True"
      ]
    },
    {
      "cell_type": "code",
      "execution_count": null,
      "id": "933641a7",
      "metadata": {
        "id": "933641a7"
      },
      "outputs": [],
      "source": [
        "#This all are the simple expression in boolean"
      ]
    },
    {
      "cell_type": "code",
      "execution_count": null,
      "id": "d5db0333",
      "metadata": {
        "id": "d5db0333"
      },
      "outputs": [],
      "source": [
        "#lets know about Data Types\n",
        "#Data Types\n",
        "# 1- Numbers/Integer\n",
        "# 2-String\n",
        "# 3-List\n",
        "# 4-Tuple\n",
        "# 5-Set\n",
        "# 6-Dictionary\n",
        "\n",
        "\n",
        "\n",
        "\n",
        "\n",
        "#Lets Start with Numbers"
      ]
    },
    {
      "cell_type": "code",
      "execution_count": null,
      "id": "66c07d11",
      "metadata": {
        "id": "66c07d11"
      },
      "outputs": [],
      "source": [
        "x=20"
      ]
    },
    {
      "cell_type": "code",
      "execution_count": null,
      "id": "ebca8798",
      "metadata": {
        "id": "ebca8798"
      },
      "outputs": [],
      "source": [
        "# x is variable\n",
        "# 20 is Data\n",
        "# How to check datatype.\n",
        "#lets see.\n"
      ]
    },
    {
      "cell_type": "code",
      "execution_count": null,
      "id": "de9380c0",
      "metadata": {
        "id": "de9380c0",
        "outputId": "ec5d0b23-6403-4c22-b1f4-1705868c5c13"
      },
      "outputs": [
        {
          "data": {
            "text/plain": [
              "int"
            ]
          },
          "execution_count": 30,
          "metadata": {},
          "output_type": "execute_result"
        }
      ],
      "source": [
        "type(x) #int stands for integer, numbers which dont have decimals eg: count of students is a definite number"
      ]
    },
    {
      "cell_type": "code",
      "execution_count": null,
      "id": "818a50e7",
      "metadata": {
        "id": "818a50e7"
      },
      "outputs": [],
      "source": [
        "#Now See Float numbers\n",
        "#Float number is which number they have decimels\n",
        "#like , see example\n"
      ]
    },
    {
      "cell_type": "code",
      "execution_count": null,
      "id": "0cf8dc4b",
      "metadata": {
        "id": "0cf8dc4b"
      },
      "outputs": [],
      "source": [
        "x=20.2"
      ]
    },
    {
      "cell_type": "code",
      "execution_count": null,
      "id": "c7f9eab2",
      "metadata": {
        "id": "c7f9eab2",
        "outputId": "4f4b5297-ea55-46ba-8abf-845a57213697"
      },
      "outputs": [
        {
          "data": {
            "text/plain": [
              "20.2"
            ]
          },
          "execution_count": 33,
          "metadata": {},
          "output_type": "execute_result"
        }
      ],
      "source": [
        "x"
      ]
    },
    {
      "cell_type": "code",
      "execution_count": null,
      "id": "dccb86ea",
      "metadata": {
        "id": "dccb86ea",
        "outputId": "c658f9a1-9add-4866-c909-728f2901fb0d"
      },
      "outputs": [
        {
          "data": {
            "text/plain": [
              "float"
            ]
          },
          "execution_count": 34,
          "metadata": {},
          "output_type": "execute_result"
        }
      ],
      "source": [
        "type(x)"
      ]
    },
    {
      "cell_type": "code",
      "execution_count": null,
      "id": "63e425be",
      "metadata": {
        "id": "63e425be"
      },
      "outputs": [],
      "source": [
        "#lets do small mathematical operation."
      ]
    },
    {
      "cell_type": "code",
      "execution_count": null,
      "id": "5968fee9",
      "metadata": {
        "id": "5968fee9"
      },
      "outputs": [],
      "source": [
        "x=2+2 #addition similarly we can do - (subtraction), * (multiplication), / (division), % (mod), ** (power),// (floor division) we shall see some examples now"
      ]
    },
    {
      "cell_type": "code",
      "execution_count": null,
      "id": "c1de383a",
      "metadata": {
        "id": "c1de383a",
        "outputId": "662600c7-4cc7-4bae-e0b5-d6fb12882c9e"
      },
      "outputs": [
        {
          "data": {
            "text/plain": [
              "4"
            ]
          },
          "execution_count": 37,
          "metadata": {},
          "output_type": "execute_result"
        }
      ],
      "source": [
        "x"
      ]
    },
    {
      "cell_type": "code",
      "execution_count": null,
      "id": "0e003fe2",
      "metadata": {
        "id": "0e003fe2"
      },
      "outputs": [],
      "source": [
        "#lets see another example"
      ]
    },
    {
      "cell_type": "code",
      "execution_count": null,
      "id": "99aba707",
      "metadata": {
        "id": "99aba707"
      },
      "outputs": [],
      "source": [
        "a=44\n",
        "b=22"
      ]
    },
    {
      "cell_type": "code",
      "execution_count": null,
      "id": "502ba468",
      "metadata": {
        "id": "502ba468"
      },
      "outputs": [],
      "source": [
        "c=a+b"
      ]
    },
    {
      "cell_type": "code",
      "execution_count": null,
      "id": "8b5c970a",
      "metadata": {
        "id": "8b5c970a",
        "outputId": "1963106b-e112-436d-a1c8-097b2f6b8c67"
      },
      "outputs": [
        {
          "data": {
            "text/plain": [
              "66"
            ]
          },
          "execution_count": 41,
          "metadata": {},
          "output_type": "execute_result"
        }
      ],
      "source": [
        "c"
      ]
    },
    {
      "cell_type": "code",
      "execution_count": null,
      "id": "2311bfaf",
      "metadata": {
        "id": "2311bfaf",
        "outputId": "958d4860-5ccc-4c1a-b23e-7143f9f531ea"
      },
      "outputs": [
        {
          "name": "stdout",
          "output_type": "stream",
          "text": [
            "132\n"
          ]
        }
      ],
      "source": [
        "print(c*2)"
      ]
    },
    {
      "cell_type": "code",
      "execution_count": null,
      "id": "445ea4a6",
      "metadata": {
        "id": "445ea4a6"
      },
      "outputs": [],
      "source": [
        "#AI/ML Engineer-Saurav\n",
        "#Date-25 June 2024\n",
        "#Time- 14:08\n"
      ]
    },
    {
      "cell_type": "code",
      "execution_count": null,
      "id": "ceb2f0d7-c65b-485b-8ea2-c11c8fe76c47",
      "metadata": {
        "id": "ceb2f0d7-c65b-485b-8ea2-c11c8fe76c47"
      },
      "outputs": [],
      "source": []
    },
    {
      "cell_type": "code",
      "execution_count": null,
      "id": "bcd49332-5437-4119-a1bb-dbc596319b70",
      "metadata": {
        "id": "bcd49332-5437-4119-a1bb-dbc596319b70"
      },
      "outputs": [],
      "source": []
    },
    {
      "cell_type": "code",
      "execution_count": null,
      "id": "ebad86a5-4f11-442c-bc70-f0f31b7c19a9",
      "metadata": {
        "id": "ebad86a5-4f11-442c-bc70-f0f31b7c19a9"
      },
      "outputs": [],
      "source": []
    }
  ],
  "metadata": {
    "kernelspec": {
      "display_name": "Python 3 (ipykernel)",
      "language": "python",
      "name": "python3"
    },
    "language_info": {
      "codemirror_mode": {
        "name": "ipython",
        "version": 3
      },
      "file_extension": ".py",
      "mimetype": "text/x-python",
      "name": "python",
      "nbconvert_exporter": "python",
      "pygments_lexer": "ipython3",
      "version": "3.10.12"
    },
    "colab": {
      "provenance": []
    }
  },
  "nbformat": 4,
  "nbformat_minor": 5
}