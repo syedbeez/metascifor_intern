{
  "cells": [
    {
      "cell_type": "code",
      "execution_count": null,
      "id": "dee2f0d3",
      "metadata": {
        "id": "dee2f0d3"
      },
      "outputs": [],
      "source": [
        "\n",
        "#Study about range,loop,break and continue statement.\n",
        "#Lets Start with Range Fucntion..\n"
      ]
    },
    {
      "cell_type": "code",
      "execution_count": null,
      "id": "01f6d20c",
      "metadata": {
        "id": "01f6d20c"
      },
      "outputs": [],
      "source": [
        "# so, What is range function ? we can genrate a sequence of numbers  using range() function , range(10) will generate numbers -\n",
        "# -from 0 to 9 (10 numbers). we cance also define the starting number of range,which number we can stop, and step size.\n",
        "# its write on the (starting number, stop number,step size)\n",
        "# to force the function to output all the items we can use the function list()\n",
        "\n",
        "\n",
        "\n",
        "# Lets  see Example."
      ]
    },
    {
      "cell_type": "code",
      "execution_count": null,
      "id": "7a359817",
      "metadata": {
        "id": "7a359817",
        "outputId": "d91be502-53df-4c3f-e9b7-81dfb7a459e3"
      },
      "outputs": [
        {
          "name": "stdout",
          "output_type": "stream",
          "text": [
            "range(0, 10)\n"
          ]
        }
      ],
      "source": [
        "print(range(10)) #it will print 0 to 9 (10 numbers)"
      ]
    },
    {
      "cell_type": "code",
      "execution_count": null,
      "id": "5e87a928",
      "metadata": {
        "id": "5e87a928"
      },
      "outputs": [],
      "source": [
        "#print range in list."
      ]
    },
    {
      "cell_type": "code",
      "execution_count": null,
      "id": "b45c8a2b",
      "metadata": {
        "id": "b45c8a2b",
        "outputId": "a3dc2cbe-c095-4cd8-c8f5-3264f5668283"
      },
      "outputs": [
        {
          "name": "stdout",
          "output_type": "stream",
          "text": [
            "[0, 1, 2, 3, 4, 5, 6, 7, 8, 9]\n"
          ]
        }
      ],
      "source": [
        "print(list(range(10))) #it will print 0 to 9 (10 numbers) in list."
      ]
    },
    {
      "cell_type": "code",
      "execution_count": null,
      "id": "d187be40",
      "metadata": {
        "id": "d187be40"
      },
      "outputs": [],
      "source": [
        "#what if we can generate number from 10 and its goes 100 and the step size is 2.\n",
        "#lets see"
      ]
    },
    {
      "cell_type": "code",
      "execution_count": null,
      "id": "ba958b3c",
      "metadata": {
        "id": "ba958b3c",
        "outputId": "87df0644-f7dd-4ab7-d463-c5565ae5b9d6"
      },
      "outputs": [
        {
          "name": "stdout",
          "output_type": "stream",
          "text": [
            "[10, 12, 14, 16, 18, 20, 22, 24, 26, 28, 30, 32, 34, 36, 38, 40, 42, 44, 46, 48, 50, 52, 54, 56, 58, 60, 62, 64, 66, 68, 70, 72, 74, 76, 78, 80, 82, 84, 86, 88, 90, 92, 94, 96, 98, 100]\n"
          ]
        }
      ],
      "source": [
        "print(list(range(10,101,2)))#it will print 10 to 101 in list with step size 2."
      ]
    },
    {
      "cell_type": "code",
      "execution_count": null,
      "id": "f46e8899",
      "metadata": {
        "id": "f46e8899"
      },
      "outputs": [],
      "source": [
        "# see in above example , we use 101 for going to 100. because starting number is included and stop number is excluded.\n",
        "#this reason for we write a 101 for getting 100."
      ]
    },
    {
      "cell_type": "code",
      "execution_count": null,
      "id": "7666c427",
      "metadata": {
        "id": "7666c427"
      },
      "outputs": [],
      "source": [
        "#can we store range fuction in variable ? yes we can. lets see."
      ]
    },
    {
      "cell_type": "code",
      "execution_count": 1,
      "id": "e1b455c4",
      "metadata": {
        "id": "e1b455c4"
      },
      "outputs": [],
      "source": [
        "roll_num=list(range(10,50,1)) #it will print 10 to 49 in list with step size 1."
      ]
    },
    {
      "cell_type": "code",
      "execution_count": 2,
      "id": "e50d474d",
      "metadata": {
        "colab": {
          "base_uri": "https://localhost:8080/"
        },
        "id": "e50d474d",
        "outputId": "c4ce3946-2165-46c5-f63b-b83866b02cf4"
      },
      "outputs": [
        {
          "output_type": "execute_result",
          "data": {
            "text/plain": [
              "[10,\n",
              " 11,\n",
              " 12,\n",
              " 13,\n",
              " 14,\n",
              " 15,\n",
              " 16,\n",
              " 17,\n",
              " 18,\n",
              " 19,\n",
              " 20,\n",
              " 21,\n",
              " 22,\n",
              " 23,\n",
              " 24,\n",
              " 25,\n",
              " 26,\n",
              " 27,\n",
              " 28,\n",
              " 29,\n",
              " 30,\n",
              " 31,\n",
              " 32,\n",
              " 33,\n",
              " 34,\n",
              " 35,\n",
              " 36,\n",
              " 37,\n",
              " 38,\n",
              " 39,\n",
              " 40,\n",
              " 41,\n",
              " 42,\n",
              " 43,\n",
              " 44,\n",
              " 45,\n",
              " 46,\n",
              " 47,\n",
              " 48,\n",
              " 49]"
            ]
          },
          "metadata": {},
          "execution_count": 2
        }
      ],
      "source": [
        "roll_num"
      ]
    },
    {
      "cell_type": "code",
      "execution_count": null,
      "id": "a5bd2832",
      "metadata": {
        "id": "a5bd2832"
      },
      "outputs": [],
      "source": [
        "# Lets see Reverse function with range fucntion..\n",
        "#if we have to go backword in range funciton what we will do.\n",
        "#lets see. how we go with example."
      ]
    },
    {
      "cell_type": "code",
      "execution_count": 3,
      "id": "a1f3fdbe",
      "metadata": {
        "id": "a1f3fdbe"
      },
      "outputs": [],
      "source": [
        "reverse=list(range(1600,99,-100))\n",
        "#Lets Remember we have to minus sign for going backword.\n",
        "#basically it will go backword from 1600 to 99 with -100 being deducted."
      ]
    },
    {
      "cell_type": "code",
      "execution_count": 4,
      "id": "c6738ccc",
      "metadata": {
        "colab": {
          "base_uri": "https://localhost:8080/"
        },
        "id": "c6738ccc",
        "outputId": "edbc7883-416c-4670-e98e-3e7f0801b177"
      },
      "outputs": [
        {
          "output_type": "execute_result",
          "data": {
            "text/plain": [
              "[1600,\n",
              " 1500,\n",
              " 1400,\n",
              " 1300,\n",
              " 1200,\n",
              " 1100,\n",
              " 1000,\n",
              " 900,\n",
              " 800,\n",
              " 700,\n",
              " 600,\n",
              " 500,\n",
              " 400,\n",
              " 300,\n",
              " 200,\n",
              " 100]"
            ]
          },
          "metadata": {},
          "execution_count": 4
        }
      ],
      "source": [
        "reverse"
      ]
    },
    {
      "cell_type": "code",
      "execution_count": null,
      "id": "845d990f",
      "metadata": {
        "id": "845d990f"
      },
      "outputs": [],
      "source": [
        "# This all about range function\n",
        "\n",
        "\n",
        "#Lets stude about loop fucntion\n",
        "# So, what is loop fucntion ? some time we want to repeat a set of statement in pur program for instance.\n",
        "# like  print 1 to 1000(with range function)\n",
        "# programming language provide various control structure that allows for more complicated execution.\n",
        "\n",
        "\n",
        "# There are 2 types of loop..   1- For loop  ,  2 - While loop\n",
        "# First we have to study about For loop , so what is for loop ? A for loop is used to iterate through a sequence like list,-\n",
        "#  - tuple, or string [iterable], loop continues untill we reach the last number or of item in sequence\n",
        "\n",
        "#Syntax with range fucntion- for i in range(10):\n",
        "#                               print(i)\n",
        "\n",
        "#Lets se with list."
      ]
    },
    {
      "cell_type": "code",
      "execution_count": null,
      "id": "81cd3997",
      "metadata": {
        "id": "81cd3997"
      },
      "outputs": [],
      "source": [
        "location=[\"Korba\",\"Bilaspur\",\"Raipur\",\"Patna\",\"Siwan\"] #lets create a list with locations."
      ]
    },
    {
      "cell_type": "code",
      "execution_count": null,
      "id": "427b301a",
      "metadata": {
        "id": "427b301a",
        "outputId": "0aec287f-4955-44db-e49a-d9f5c9a10ec8"
      },
      "outputs": [
        {
          "data": {
            "text/plain": [
              "['Korba', 'Bilaspur', 'Raipur', 'Patna', 'Siwan']"
            ]
          },
          "execution_count": 17,
          "metadata": {},
          "output_type": "execute_result"
        }
      ],
      "source": [
        "location  #Lets apply for loop method."
      ]
    },
    {
      "cell_type": "code",
      "execution_count": null,
      "id": "64f7aaef",
      "metadata": {
        "id": "64f7aaef",
        "outputId": "4e49f5bc-9adf-4dba-e73f-8db20157c8b3"
      },
      "outputs": [
        {
          "name": "stdout",
          "output_type": "stream",
          "text": [
            "Korba\n",
            "Bilaspur\n",
            "Raipur\n",
            "Patna\n",
            "Siwan\n"
          ]
        }
      ],
      "source": [
        "for city in location:\n",
        "    print(city) #it will print all the location in list one by one."
      ]
    },
    {
      "cell_type": "code",
      "execution_count": null,
      "id": "48eb9995",
      "metadata": {
        "id": "48eb9995"
      },
      "outputs": [],
      "source": [
        "#lets apply for numbers"
      ]
    },
    {
      "cell_type": "code",
      "execution_count": null,
      "id": "e40d3c6a",
      "metadata": {
        "id": "e40d3c6a"
      },
      "outputs": [],
      "source": [
        "salary=[1000,2000,3000,5000,7000,1000,2000,9000] #lets create a list with salary."
      ]
    },
    {
      "cell_type": "code",
      "execution_count": null,
      "id": "62b75d87",
      "metadata": {
        "id": "62b75d87",
        "outputId": "266cb828-bda1-4201-a925-ebc0fcdb705c"
      },
      "outputs": [
        {
          "name": "stdout",
          "output_type": "stream",
          "text": [
            "1000\n",
            "2000\n",
            "3000\n",
            "5000\n",
            "7000\n",
            "1000\n",
            "2000\n",
            "9000\n"
          ]
        }
      ],
      "source": [
        "for money in salary:\n",
        "    print(money) #it will print all the salary in list one by one."
      ]
    },
    {
      "cell_type": "code",
      "execution_count": null,
      "id": "acac4695",
      "metadata": {
        "id": "acac4695"
      },
      "outputs": [],
      "source": [
        "#Lets see anothe example of for loop with branching statement."
      ]
    },
    {
      "cell_type": "code",
      "execution_count": null,
      "id": "e856c956",
      "metadata": {
        "id": "e856c956"
      },
      "outputs": [],
      "source": [
        "student_score=[78,98,65,45,89,87,32,65,54,98,89,78,69,58,47]"
      ]
    },
    {
      "cell_type": "code",
      "execution_count": null,
      "id": "2fa34825",
      "metadata": {
        "id": "2fa34825"
      },
      "outputs": [],
      "source": [
        "#what we have to do in the above cell. we have to create a grades for student_score in abovr list.\n",
        "#lets see how we can do."
      ]
    },
    {
      "cell_type": "code",
      "execution_count": null,
      "id": "06d03536",
      "metadata": {
        "id": "06d03536",
        "outputId": "23fb7cd1-7f73-46a5-cea7-e9f83b6cf092"
      },
      "outputs": [
        {
          "name": "stdout",
          "output_type": "stream",
          "text": [
            "78 First class\n",
            "98 Distiction\n",
            "65 First class\n",
            "45 Jsut Pass\n",
            "89 Second class\n",
            "87 Second class\n",
            "32 You are fail, please try next time\n",
            "65 First class\n",
            "54 Second class\n",
            "98 Distiction\n",
            "89 Second class\n",
            "78 First class\n",
            "69 First class\n",
            "58 Second class\n",
            "47 Second class\n"
          ]
        }
      ],
      "source": [
        "for marks in student_score:\n",
        "    if marks>90: #if marks is greater than 90\n",
        "        if marks>85: # if marks is greater than 85\n",
        "            print(marks , \"Distiction\")\n",
        "        else : # if marks is not greater than 85\n",
        "            print(marks , \"First class\")\n",
        "    elif marks >60 and marks<85 : # if marks is greater than 60 and less than 85\n",
        "        print(marks ,\"First class\")\n",
        "    elif marks>45:# if marks is greater than 45\n",
        "        print(marks ,\"Second class\")\n",
        "    elif marks >35: # if marks is greater than 35\n",
        "        print(marks ,\"Jsut Pass\")\n",
        "    else: # if marks is not greater than 35\n",
        "        print(marks ,\"You are fail, please try next time\")\n",
        "#we will use on list by looping"
      ]
    },
    {
      "cell_type": "code",
      "execution_count": null,
      "id": "83c8653f",
      "metadata": {
        "id": "83c8653f"
      },
      "outputs": [],
      "source": [
        "# Lets See, What is list comprehension ? List comprehension is a shorter syntax when you want to create a new list  based ,-\n",
        "# on the values of existing list.\n",
        "\n",
        "# lets create a list."
      ]
    },
    {
      "cell_type": "code",
      "execution_count": null,
      "id": "27d50149",
      "metadata": {
        "id": "27d50149"
      },
      "outputs": [],
      "source": [
        "salary=[1000,2000,3000,5000,7000,1000,2000,9000]\n",
        "#then apply list comprehension."
      ]
    },
    {
      "cell_type": "code",
      "execution_count": null,
      "id": "e02319ac",
      "metadata": {
        "id": "e02319ac"
      },
      "outputs": [],
      "source": [
        "sal=[val for val in salary if val==2000] #it will print only 2000s in list."
      ]
    },
    {
      "cell_type": "code",
      "execution_count": null,
      "id": "ef0a0338",
      "metadata": {
        "id": "ef0a0338",
        "outputId": "3d8947a6-a782-47fc-97ff-c35f546d1a76"
      },
      "outputs": [
        {
          "data": {
            "text/plain": [
              "[2000, 2000]"
            ]
          },
          "execution_count": 29,
          "metadata": {},
          "output_type": "execute_result"
        }
      ],
      "source": [
        "sal"
      ]
    },
    {
      "cell_type": "code",
      "execution_count": null,
      "id": "28098dd4",
      "metadata": {
        "id": "28098dd4"
      },
      "outputs": [],
      "source": [
        "# for loop with else\n",
        "\n",
        "#lets see how we can use for loop with else method.  - A for loop have an optional else block,as well the else part is executed\n",
        "# ,if the items in the sequence used in for loop exhaust. break statement ,can be used to stop a for loop ,in such case the else\n",
        "# part is ignored     ,   Hence a for loop else part runs when not break method occurs.\n"
      ]
    },
    {
      "cell_type": "code",
      "execution_count": null,
      "id": "f9041f48",
      "metadata": {
        "id": "f9041f48"
      },
      "outputs": [],
      "source": [
        "#Print multiplication table with for loop with else."
      ]
    },
    {
      "cell_type": "code",
      "execution_count": null,
      "id": "7433656a",
      "metadata": {
        "id": "7433656a",
        "outputId": "89301db0-925d-40a5-d22b-c7af7166e796"
      },
      "outputs": [
        {
          "name": "stdout",
          "output_type": "stream",
          "text": [
            "Multiplication table for 2\n",
            "2\n",
            "4\n",
            "6\n",
            "8\n",
            "10\n",
            "12\n",
            "14\n",
            "16\n",
            "18\n",
            "20\n",
            "\n",
            "\n",
            "Multiplication table for 3\n",
            "3\n",
            "6\n",
            "9\n",
            "12\n",
            "15\n",
            "18\n",
            "21\n",
            "24\n",
            "27\n",
            "30\n",
            "\n",
            "\n",
            "Multiplication table for 4\n",
            "4\n",
            "8\n",
            "12\n",
            "16\n",
            "20\n",
            "24\n",
            "28\n",
            "32\n",
            "36\n",
            "40\n",
            "\n",
            "\n",
            "******************************\n",
            "Thats all\n",
            "******************************\n"
          ]
        }
      ],
      "source": [
        "for num in range(2,5): #Lets print multiplication table with for loop with else.\n",
        "    print(\"Multiplication table for\",num)\n",
        "    for i in range(1,11):\n",
        "        print(num*i)\n",
        "        if i ==10:\n",
        "            print( \"\\n\" )\n",
        "else:\n",
        "    print(\"*\" * 30)\n",
        "    print(\"Thats all\")\n",
        "    print(\"*\" * 30)"
      ]
    },
    {
      "cell_type": "code",
      "execution_count": null,
      "id": "ff5e8ef9",
      "metadata": {
        "id": "ff5e8ef9"
      },
      "outputs": [],
      "source": [
        "#Lets se another way of print multiplication table."
      ]
    },
    {
      "cell_type": "code",
      "execution_count": null,
      "id": "11023bcc",
      "metadata": {
        "id": "11023bcc",
        "outputId": "cb7a5dc2-6628-40d9-b06e-2251d4c4ec34"
      },
      "outputs": [
        {
          "name": "stdin",
          "output_type": "stream",
          "text": [
            "Enter Number which one you want a table 5\n"
          ]
        },
        {
          "name": "stdout",
          "output_type": "stream",
          "text": [
            "5 X 1 = 5\n",
            "5 X 2 = 10\n",
            "5 X 3 = 15\n",
            "5 X 4 = 20\n",
            "5 X 5 = 25\n",
            "5 X 6 = 30\n",
            "5 X 7 = 35\n",
            "5 X 8 = 40\n",
            "5 X 9 = 45\n",
            "5 X 10 = 50\n"
          ]
        }
      ],
      "source": [
        "num=int(input(\"Enter Number which one you want a table\")) #we have to take input from user and cast it into integer as it takes string by default\n",
        "\n",
        "for i in range(1,11):\n",
        "    print(str(num), 'X' ,str(i),\"=\",str(num*i))"
      ]
    },
    {
      "cell_type": "code",
      "execution_count": null,
      "id": "03218542",
      "metadata": {
        "id": "03218542"
      },
      "outputs": [],
      "source": [
        "#Lets see what is F string ? Formatted string litrel . is use for F-strings can also be used to apply number\n",
        "#- formatting directly to the values.\n",
        "#Lets print multiplication table with f string.\n",
        "#Lets see with example.\n"
      ]
    },
    {
      "cell_type": "code",
      "execution_count": null,
      "id": "30c90b6a",
      "metadata": {
        "id": "30c90b6a",
        "outputId": "e8c0278f-65e2-40cf-a0d2-f4f3912b37a7"
      },
      "outputs": [
        {
          "name": "stdin",
          "output_type": "stream",
          "text": [
            "Enter Number which one you want a table 5\n"
          ]
        },
        {
          "name": "stdout",
          "output_type": "stream",
          "text": [
            "5X1=5\n",
            "5X2=10\n",
            "5X3=15\n",
            "5X4=20\n",
            "5X5=25\n",
            "5X6=30\n",
            "5X7=35\n",
            "5X8=40\n",
            "5X9=45\n",
            "5X10=50\n"
          ]
        }
      ],
      "source": [
        "num=int(input(\"Enter Number which one you want a table\"))\n",
        "\n",
        "for i in range(1,11):\n",
        "    print(f\"{num}X{i}={num*i}\")   #We have to write varaibles in curly brackets and other is whithour curly brackets."
      ]
    },
    {
      "cell_type": "code",
      "execution_count": null,
      "id": "c94bab6b",
      "metadata": {
        "id": "c94bab6b"
      },
      "outputs": [],
      "source": [
        "#Now Start What is While Loop ? In while loop, the condition is checked first if it evaluate to true , the body of the loop is executed\n",
        "# , otherwise not.   In the loop entered , the process of [conditon executed] is continued until the condition become false .\n",
        "\n",
        "#Python intrepret any non zero as True , None and zero are interpreted as False.\n",
        "\n",
        "#Syntax of while loop\n",
        "#Lets see"
      ]
    },
    {
      "cell_type": "code",
      "execution_count": null,
      "id": "247abf2e",
      "metadata": {
        "id": "247abf2e",
        "outputId": "0a01e05c-d8a6-4434-a616-8129777ed281"
      },
      "outputs": [
        {
          "name": "stdout",
          "output_type": "stream",
          "text": [
            "0\n",
            "1\n",
            "2\n",
            "3\n",
            "4\n",
            "5\n"
          ]
        }
      ],
      "source": [
        "i=0\n",
        "while i<=5:\n",
        "    print(i)\n",
        "    i=i+1"
      ]
    },
    {
      "cell_type": "code",
      "execution_count": null,
      "id": "e73bc2a5",
      "metadata": {
        "id": "e73bc2a5"
      },
      "outputs": [],
      "source": [
        "#One More Example of While Loop.\n",
        "#Lets say you have to set an alarm and how its work.\n",
        "#First we havt to import time."
      ]
    },
    {
      "cell_type": "code",
      "execution_count": null,
      "id": "8ef7527e",
      "metadata": {
        "id": "8ef7527e"
      },
      "outputs": [],
      "source": [
        "import time"
      ]
    },
    {
      "cell_type": "code",
      "execution_count": null,
      "id": "da86f01e",
      "metadata": {
        "id": "da86f01e"
      },
      "outputs": [],
      "source": [
        "result =time.localtime() #this will show current time."
      ]
    },
    {
      "cell_type": "code",
      "execution_count": null,
      "id": "ff5a2ee1",
      "metadata": {
        "id": "ff5a2ee1",
        "outputId": "f2868091-bc1a-4051-fff4-ff163971978c"
      },
      "outputs": [
        {
          "data": {
            "text/plain": [
              "time.struct_time(tm_year=2024, tm_mon=5, tm_mday=7, tm_hour=11, tm_min=13, tm_sec=9, tm_wday=1, tm_yday=128, tm_isdst=0)"
            ]
          },
          "execution_count": 51,
          "metadata": {},
          "output_type": "execute_result"
        }
      ],
      "source": [
        "result"
      ]
    },
    {
      "cell_type": "code",
      "execution_count": null,
      "id": "dc4206fa",
      "metadata": {
        "id": "dc4206fa"
      },
      "outputs": [],
      "source": [
        "# Now the time is shown, now we havt to set an alarm .let see how we set alarm with the help of while loop."
      ]
    },
    {
      "cell_type": "code",
      "execution_count": null,
      "id": "b13f9ad1",
      "metadata": {
        "id": "b13f9ad1",
        "outputId": "193f53ef-1cf6-48bd-b99e-1d151392d743"
      },
      "outputs": [
        {
          "name": "stdout",
          "output_type": "stream",
          "text": [
            "Wake up buddy\n"
          ]
        }
      ],
      "source": [
        "while True:\n",
        "    result=time.localtime()\n",
        "    if result.tm_hour==11 and result.tm_min==14:\n",
        "        print(\"Wake up buddy\")\n",
        "        break"
      ]
    },
    {
      "cell_type": "code",
      "execution_count": null,
      "id": "59a74bea",
      "metadata": {
        "id": "59a74bea"
      },
      "outputs": [],
      "source": [
        "#lets Study about small and easy thing\n",
        "#enumerate,zip,unzip\n",
        "#Lets Start with enumerate.\n",
        "#What is enumerate ? Enumerate() allows us to iterate through a sequence but it keeps track of both the index and the element.\n",
        "#lets see with example."
      ]
    },
    {
      "cell_type": "code",
      "execution_count": null,
      "id": "5a66652a",
      "metadata": {
        "id": "5a66652a"
      },
      "outputs": [],
      "source": [
        "student=[\"Saurav\",\"Gaurav\",\"Ramesh\",\"Suresh\",\"Mukesh\"]"
      ]
    },
    {
      "cell_type": "code",
      "execution_count": null,
      "id": "faad6de0",
      "metadata": {
        "id": "faad6de0",
        "outputId": "21787032-e94d-45a1-f336-a455ff5c83cb"
      },
      "outputs": [
        {
          "name": "stdout",
          "output_type": "stream",
          "text": [
            "(0, 'Saurav')\n",
            "(1, 'Gaurav')\n",
            "(2, 'Ramesh')\n",
            "(3, 'Suresh')\n",
            "(4, 'Mukesh')\n"
          ]
        }
      ],
      "source": [
        "for i in enumerate(student):\n",
        "    print(i)"
      ]
    },
    {
      "cell_type": "code",
      "execution_count": null,
      "id": "21e313c4",
      "metadata": {
        "id": "21e313c4"
      },
      "outputs": [],
      "source": [
        "#If we want to start numbering from our own number ? How it will do.\n",
        "#we use same list."
      ]
    },
    {
      "cell_type": "code",
      "execution_count": null,
      "id": "cf93bcf4",
      "metadata": {
        "id": "cf93bcf4"
      },
      "outputs": [],
      "source": [
        "student=[\"Saurav\",\"Gaurav\",\"Ramesh\",\"Suresh\",\"Mukesh\"]"
      ]
    },
    {
      "cell_type": "code",
      "execution_count": null,
      "id": "078a8311",
      "metadata": {
        "id": "078a8311",
        "outputId": "ea110ba1-b3fc-4abc-9ffd-dc32d2759cb1"
      },
      "outputs": [
        {
          "name": "stdout",
          "output_type": "stream",
          "text": [
            "1 Saurav\n",
            "2 Gaurav\n",
            "3 Ramesh\n",
            "4 Suresh\n",
            "5 Mukesh\n"
          ]
        }
      ],
      "source": [
        "for i,name in enumerate(student,1):\n",
        "    print(i,name)"
      ]
    },
    {
      "cell_type": "code",
      "execution_count": null,
      "id": "ff6b1a2e",
      "metadata": {
        "id": "ff6b1a2e"
      },
      "outputs": [],
      "source": [
        "#Lets start zip method.\n",
        "#what is zip method ? zip method use when we join a two list.\n",
        "#see with example you better under stand"
      ]
    },
    {
      "cell_type": "code",
      "execution_count": null,
      "id": "771f7308",
      "metadata": {
        "id": "771f7308"
      },
      "outputs": [],
      "source": [
        "student_name=[\"Ramesh\",\"Riya\",\"Yashu\",\"Rohit\",\"Amisha\"]\n",
        "student_marks=[54,98,99,100,34]"
      ]
    },
    {
      "cell_type": "code",
      "execution_count": null,
      "id": "226f9543",
      "metadata": {
        "id": "226f9543"
      },
      "outputs": [],
      "source": [
        "student_details=list(zip(student_name,student_marks)) #Lets apply zip method."
      ]
    },
    {
      "cell_type": "code",
      "execution_count": null,
      "id": "e0f8e653",
      "metadata": {
        "id": "e0f8e653",
        "outputId": "41855e64-5958-47e6-cf15-617438f72589"
      },
      "outputs": [
        {
          "data": {
            "text/plain": [
              "[('Ramesh', 54), ('Riya', 98), ('Yashu', 99), ('Rohit', 100), ('Amisha', 34)]"
            ]
          },
          "execution_count": 64,
          "metadata": {},
          "output_type": "execute_result"
        }
      ],
      "source": [
        "student_details"
      ]
    },
    {
      "cell_type": "code",
      "execution_count": null,
      "id": "265f266a",
      "metadata": {
        "id": "265f266a"
      },
      "outputs": [],
      "source": [
        "#and How to Unzip.\n",
        "\n",
        "# use * for unziping"
      ]
    },
    {
      "cell_type": "code",
      "execution_count": null,
      "id": "0114fd78",
      "metadata": {
        "id": "0114fd78"
      },
      "outputs": [],
      "source": [
        "name,marks=list(zip(*student_details))"
      ]
    },
    {
      "cell_type": "code",
      "execution_count": null,
      "id": "72b01ed5",
      "metadata": {
        "id": "72b01ed5",
        "outputId": "4bf3622a-fb19-4075-c07d-9ff60031d791"
      },
      "outputs": [
        {
          "data": {
            "text/plain": [
              "('Ramesh', 'Riya', 'Yashu', 'Rohit', 'Amisha')"
            ]
          },
          "execution_count": 67,
          "metadata": {},
          "output_type": "execute_result"
        }
      ],
      "source": [
        "name"
      ]
    },
    {
      "cell_type": "code",
      "execution_count": null,
      "id": "26d96d37",
      "metadata": {
        "id": "26d96d37",
        "outputId": "9b2277dd-701a-4503-ccb5-cb8e8d7f2614"
      },
      "outputs": [
        {
          "data": {
            "text/plain": [
              "(54, 98, 99, 100, 34)"
            ]
          },
          "execution_count": 68,
          "metadata": {},
          "output_type": "execute_result"
        }
      ],
      "source": [
        "marks"
      ]
    },
    {
      "cell_type": "code",
      "execution_count": null,
      "id": "f4239ba3",
      "metadata": {
        "id": "f4239ba3"
      },
      "outputs": [],
      "source": [
        "#Lets know one thing How we can do enumerate and zip in same time.\n"
      ]
    },
    {
      "cell_type": "code",
      "execution_count": null,
      "id": "b81ddc96",
      "metadata": {
        "id": "b81ddc96"
      },
      "outputs": [],
      "source": [
        "student_name=[\"Ramesh\",\"Riya\",\"Yashu\",\"Rohit\",\"Amisha\"]\n",
        "student_marks=[54,98,99,100,34]"
      ]
    },
    {
      "cell_type": "code",
      "execution_count": null,
      "id": "9e82953c",
      "metadata": {
        "id": "9e82953c",
        "outputId": "071a0986-b6a6-4bcc-b856-7724fd338b71"
      },
      "outputs": [
        {
          "name": "stdout",
          "output_type": "stream",
          "text": [
            "1 Ramesh 54\n",
            "2 Riya 98\n",
            "3 Yashu 99\n",
            "4 Rohit 100\n",
            "5 Amisha 34\n"
          ]
        }
      ],
      "source": [
        "for i,(name,marks) in enumerate(zip(student_name,student_marks),1): #\n",
        "    print(i,name,marks)"
      ]
    },
    {
      "cell_type": "code",
      "execution_count": null,
      "id": "576d34f4",
      "metadata": {
        "id": "576d34f4"
      },
      "outputs": [],
      "source": [
        "#Now Stude about Breaka and Continue Statement.\n",
        "#So,what is break statement- The Break Statement used to terminate the loop, it is used in loop and swith case.\n",
        "# Keyword \"break\" used in Break Statement , contol is tranfer outside.\n",
        "\n",
        "#Lets see with example."
      ]
    },
    {
      "cell_type": "code",
      "execution_count": null,
      "id": "4ff41a58",
      "metadata": {
        "id": "4ff41a58"
      },
      "outputs": [],
      "source": [
        "salary=[8000,5000,6000,7000,3000]"
      ]
    },
    {
      "cell_type": "code",
      "execution_count": null,
      "id": "df8fc4ea",
      "metadata": {
        "id": "df8fc4ea",
        "outputId": "fdd0ba7e-3f95-4bb4-f8dd-b2682e04c0c2"
      },
      "outputs": [
        {
          "name": "stdout",
          "output_type": "stream",
          "text": [
            "8000\n",
            "5000\n",
            "6000\n"
          ]
        }
      ],
      "source": [
        "for val in salary: # we have to print all the values except 7000 and no values after 7000 element is found\n",
        "    if val==7000:\n",
        "        break\n",
        "    print(val)"
      ]
    },
    {
      "cell_type": "code",
      "execution_count": null,
      "id": "92e704c4",
      "metadata": {
        "id": "92e704c4"
      },
      "outputs": [],
      "source": [
        "# Continue Statement- Continue statement is used to continue the next interation in the loop, its only used in loop, keyword\n",
        "#\"continue\" used for continue statement , control remains in the same loop.\n",
        "#Lets see with example"
      ]
    },
    {
      "cell_type": "code",
      "execution_count": null,
      "id": "eee99960",
      "metadata": {
        "id": "eee99960"
      },
      "outputs": [],
      "source": [
        "salary=[8000,5000,6000,7000,3000]"
      ]
    },
    {
      "cell_type": "code",
      "execution_count": null,
      "id": "c39c7b1d",
      "metadata": {
        "id": "c39c7b1d",
        "outputId": "93091025-0ddb-4f7c-d058-96a3abe6605d"
      },
      "outputs": [
        {
          "name": "stdout",
          "output_type": "stream",
          "text": [
            "8000\n",
            "5000\n",
            "7000\n",
            "3000\n"
          ]
        }
      ],
      "source": [
        "for val in salary: # we have to print all the values except 6000\n",
        "    if val==6000:\n",
        "        continue\n",
        "    print(val)"
      ]
    },
    {
      "cell_type": "code",
      "execution_count": null,
      "id": "c0796663",
      "metadata": {
        "id": "c0796663"
      },
      "outputs": [],
      "source": [
        "#Lets see how to use break and continue statements together."
      ]
    },
    {
      "cell_type": "code",
      "execution_count": null,
      "id": "6266f027",
      "metadata": {
        "id": "6266f027",
        "outputId": "65fae098-3077-472c-e27f-c2422954f8d0"
      },
      "outputs": [
        {
          "name": "stdout",
          "output_type": "stream",
          "text": [
            "S\n",
            "t\n",
            "r\n",
            "n\n",
            "g\n",
            "e\n"
          ]
        }
      ],
      "source": [
        "for val in \"Stringexample\":\n",
        "    if val == \"i\":\n",
        "        continue\n",
        "    else:\n",
        "        if val==\"x\":\n",
        "            break\n",
        "        print(val)"
      ]
    },
    {
      "cell_type": "code",
      "execution_count": null,
      "id": "8a1ac4c7",
      "metadata": {
        "id": "8a1ac4c7"
      },
      "outputs": [],
      "source": [
        "#AI/ML Engineer-Saurav\n",
        "#Date-1 July 2024\n",
        "#Time- 11:14\n"
      ]
    },
    {
      "cell_type": "code",
      "execution_count": null,
      "id": "b63ea792-1515-4ad7-8208-59114a28c473",
      "metadata": {
        "id": "b63ea792-1515-4ad7-8208-59114a28c473"
      },
      "outputs": [],
      "source": []
    },
    {
      "cell_type": "code",
      "execution_count": null,
      "id": "e45ff886-4a10-4675-a1f2-89e54616f71e",
      "metadata": {
        "id": "e45ff886-4a10-4675-a1f2-89e54616f71e"
      },
      "outputs": [],
      "source": []
    }
  ],
  "metadata": {
    "kernelspec": {
      "display_name": "Python 3 (ipykernel)",
      "language": "python",
      "name": "python3"
    },
    "language_info": {
      "codemirror_mode": {
        "name": "ipython",
        "version": 3
      },
      "file_extension": ".py",
      "mimetype": "text/x-python",
      "name": "python",
      "nbconvert_exporter": "python",
      "pygments_lexer": "ipython3",
      "version": "3.10.12"
    },
    "colab": {
      "provenance": []
    }
  },
  "nbformat": 4,
  "nbformat_minor": 5
}